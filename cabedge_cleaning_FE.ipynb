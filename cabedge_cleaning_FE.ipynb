{
 "cells": [
  {
   "cell_type": "markdown",
   "metadata": {},
   "source": [
    "#  Project : CabEdge"
   ]
  },
  {
   "cell_type": "markdown",
   "metadata": {},
   "source": [
    "## Cleaning : Writing a cleaning function to clean individual month Databases"
   ]
  },
  {
   "cell_type": "code",
   "execution_count": 2,
   "metadata": {},
   "outputs": [],
   "source": [
    "import pandas as pd\n",
    "import numpy as np\n",
    "import import_ipynb"
   ]
  },
  {
   "cell_type": "code",
   "execution_count": 2,
   "metadata": {
    "scrolled": true
   },
   "outputs": [
    {
     "name": "stdout",
     "output_type": "stream",
     "text": [
      "importing Jupyter notebook from cabedge_utils.ipynb\n"
     ]
    }
   ],
   "source": [
    "import cabedge_utils\n",
    "import glob"
   ]
  },
  {
   "cell_type": "code",
   "execution_count": 14,
   "metadata": {},
   "outputs": [],
   "source": [
    "def extract_day(df):\n",
    "    timestamp = str(df)\n",
    "    return timestamp[8:10]"
   ]
  },
  {
   "cell_type": "code",
   "execution_count": 15,
   "metadata": {},
   "outputs": [],
   "source": [
    "def extract_hour(df):\n",
    "    timestamp = str(df)\n",
    "    return timestamp[11:13]"
   ]
  },
  {
   "cell_type": "code",
   "execution_count": null,
   "metadata": {},
   "outputs": [],
   "source": []
  },
  {
   "cell_type": "code",
   "execution_count": 3,
   "metadata": {},
   "outputs": [],
   "source": [
    "def cleaning(df):\n",
    "    \n",
    "    print('Shape of the database before Cleaning: ',df.shape)\n",
    "    \n",
    "    \"\"\"Drop all unwanted columns which are not required for this project\"\"\"\n",
    "    columns = df.columns\n",
    "    del_columns = ['VendorID','congestion_surcharge','passenger_count','RatecodeID','store_and_fwd_flag','payment_type','extra',\n",
    "       'mta_tax', 'tip_amount', 'tolls_amount', 'improvement_surcharge']\n",
    "    for col in columns:\n",
    "        if col in del_columns:\n",
    "            df = df.drop(columns=[col])\n",
    "    \n",
    "    \"\"\" First PULocationID and DOLocationID should be within 1 and 263 both inclusive\"\"\"\n",
    "    df = df.drop(df[(df['PULocationID'] > 263) | (df['DOLocationID'] > 263)].index)\n",
    "    df = df.drop(df[(df['PULocationID'] < 1) | (df['DOLocationID'] < 1)].index)\n",
    "    \n",
    "    \"\"\" Fare Amount should not be less than 2.5$(basefare) and should not be greater than 200$(Outlier) \"\"\"\n",
    "    df = df.drop(df[(df['fare_amount'] < 2.5) | (df['fare_amount'] > 200)  ].index)\n",
    "    \n",
    "    \n",
    "    \"\"\"Trip distance cannot be less than 0.1 or greater than 100 miles(Outliers) \"\"\"\n",
    "    df = df.drop(df[(df['trip_distance'] < 0.1) | (df['trip_distance'] > 100)].index)\n",
    "    \n",
    "    print('Shape of the database after Cleaning: ',df.shape)\n",
    "    \n",
    "    print('------------------------------------------------------------')\n",
    "    print('----------------FIRST CLEANING COMPLETED--------------------')\n",
    "    print('------------------------------------------------------------')\n",
    "    \n",
    "    return df\n",
    "    "
   ]
  },
  {
   "cell_type": "markdown",
   "metadata": {},
   "source": [
    "## Feature Engineering"
   ]
  },
  {
   "cell_type": "code",
   "execution_count": 4,
   "metadata": {},
   "outputs": [],
   "source": [
    "def feature_engineering(df):\n",
    "    \n",
    "    \"\"\"Calling already defined function in cabedge_utils to extract pickup and dropoff date and time\"\"\"\n",
    "    df['pickup_date'] = df['tpep_pickup_datetime'].apply(cabedge_utils.time_to_date)\n",
    "    df['pickup_time'] = df['tpep_pickup_datetime'].apply(cabedge_utils.time_to_time)\n",
    "    \n",
    "    df['dropoff_date'] = df['tpep_dropoff_datetime'].apply(cabedge_utils.time_to_date)\n",
    "    df['dropoff_time'] = df['tpep_dropoff_datetime'].apply(cabedge_utils.time_to_time)\n",
    "    \n",
    "    \"\"\" Calling already defined function in cabedge_utils to extract hour,day.month,year\"\"\"\n",
    "    df['pickup_hour'] = df['pickup_time'].apply(cabedge_utils.time_to_hour)\n",
    "    df['pickup_day'] = df['pickup_date'].apply(cabedge_utils.date_to_day)\n",
    "    df['pickup_month'] = df['pickup_date'].apply(cabedge_utils.date_to_month)\n",
    "    df['pickup_year'] = df['pickup_date'].apply(cabedge_utils.date_to_year)\n",
    "    \n",
    "    df['dropoff_hour'] = df['dropoff_time'].apply(cabedge_utils.time_to_hour)\n",
    "    df['dropoff_day'] = df['dropoff_date'].apply(cabedge_utils.date_to_day)\n",
    "    df['dropoff_month'] = df['dropoff_date'].apply(cabedge_utils.date_to_month)\n",
    "    df['dropoff_year'] = df['dropoff_date'].apply(cabedge_utils.date_to_year)\n",
    "    \n",
    "    df = df.drop(columns=['pickup_date','pickup_time','dropoff_date','dropoff_time'])\n",
    "    \n",
    "    print('------------------------------------------------------------')\n",
    "    print('----------------FEATURE ENGINEERING COMPLETED--------------')\n",
    "    print('------------------------------------------------------------')\n",
    "    \n",
    "    return df"
   ]
  },
  {
   "cell_type": "code",
   "execution_count": 5,
   "metadata": {},
   "outputs": [],
   "source": [
    "def cleaning_fe(df,year,month):\n",
    "        \n",
    "    df = df.drop(df[(df['pickup_year'] != year)].index)\n",
    "    df = df.drop(df[(df['dropoff_year'] != year)].index)\n",
    "                 \n",
    "    df = df.drop(df[(df['pickup_month'] != month)].index)\n",
    "    df = df.drop(df[(df['dropoff_month'] != month)].index)\n",
    "    \n",
    "   \n",
    "    print('--------CLEANING AFTER FEATURE ENGINEERING COMPLETED--------')\n",
    "    print('------------------------------------------------------------')\n",
    "    return df\n",
    "    "
   ]
  },
  {
   "cell_type": "code",
   "execution_count": 6,
   "metadata": {},
   "outputs": [],
   "source": [
    "month_day = {'01' : 31,'02': 28, '03':31,'04':30,'05':31,'06':30,'07':31,'08':31,'09':30,'10':31,'11':30,'12':31}\n",
    "\n",
    "def pickup_database(df):\n",
    "    #Grouping and subgrouping based \n",
    "    pickup_group = pd.DataFrame(df.groupby(by=['PULocationID','pickup_year','pickup_month','pickup_day','pickup_hour'])['PULocationID'].count())\n",
    "    pickup_group = pickup_group.rename(columns={'PULocationID':'Count'}).reset_index()\n",
    "    \n",
    "    datetime = []\n",
    "    year = pickup_group['pickup_year'].unique()[0]\n",
    "    month = pickup_group['pickup_month'].unique()[0]\n",
    "    start_str = year+'-'+month+'-'+'01'\n",
    "    \n",
    "    #Converting to datetime format\n",
    "    \n",
    "    for row in pickup_group.index:\n",
    "        datetime_str = year+'-'+ month + '-' +pickup_group.iloc[row,3] + ' '+ pickup_group.iloc[row,4] + ':00:00'\n",
    "        datetime.append(datetime_str)\n",
    "    \n",
    "    print(datetime[0])\n",
    "    pickup_group['datetime'] = datetime\n",
    "    pickup_group['datetime'] = pd.to_datetime(pickup_group['datetime'])\n",
    "    \n",
    "    #Logic for setting the count of rides to '0' for the hour where there were no rides for a particular zone\n",
    "    reference_df = pd.DataFrame({'datetime': pd.date_range(start=start_str, periods=month_day[month]*24, freq='H'), 'Score': 0})\n",
    "    \n",
    "    pickup_merge = pd.DataFrame(columns=['PULocationID', 'pickup_year', 'pickup_month', 'pickup_day',\n",
    "       'pickup_hour', 'Count', 'datetime'])\n",
    "    \n",
    "    for location in range(1,264):\n",
    "        filtered_df = pickup_group[pickup_group['PULocationID'] == location]\n",
    "        merge_df = pd.merge(filtered_df,reference_df,on='datetime',how='outer')\n",
    "        \n",
    "        merge_df=merge_df.drop(columns=['Score'])\n",
    "        merge_df['PULocationID']=merge_df['PULocationID'].fillna(location)\n",
    "        merge_df['pickup_year'] = merge_df['pickup_year'].fillna(year)\n",
    "        merge_df['pickup_month'] = merge_df['pickup_month'].fillna(month)\n",
    "        merge_df['pickup_day'] = merge_df['datetime'].apply(extract_day)\n",
    "        merge_df['pickup_hour'] = merge_df['datetime'].apply(extract_hour)\n",
    "        merge_df['Count'] = merge_df['Count'].fillna(0)\n",
    "        \n",
    "        pickup_merge = pd.concat([pickup_merge,merge_df],ignore_index=True)\n",
    "#   \n",
    "\n",
    "    print('------------------------------------------------------------')\n",
    "    print('----------------PICK UP DATABASE CREATED--------------')\n",
    "    print('------------------------------------------------------------')\n",
    "    return pickup_merge\n",
    "\n",
    "\n",
    "def dropoff_database(df):\n",
    "    dropoff_group = pd.DataFrame(df.groupby(by=['DOLocationID','dropoff_year','dropoff_month','dropoff_day','dropoff_hour'])['DOLocationID'].count())\n",
    "    dropoff_group = dropoff_group.rename(columns={'DOLocationID':'Count'}).reset_index()\n",
    "    \n",
    "    datetime = []\n",
    "    year = dropoff_group['dropoff_year'].unique()[0]\n",
    "    month = dropoff_group['dropoff_month'].unique()[0]\n",
    "    start_str = year+'-'+month+'-'+'01'\n",
    "    \n",
    "    for row in dropoff_group.index:\n",
    "        datetime_str = year+'-'+ month + '-' +dropoff_group.iloc[row,3] + ' '+ dropoff_group.iloc[row,4] + ':00:00'\n",
    "        datetime.append(datetime_str)\n",
    "    \n",
    "    print(datetime[0])\n",
    "    dropoff_group['datetime'] = datetime\n",
    "    dropoff_group['datetime'] = pd.to_datetime(dropoff_group['datetime'])\n",
    "\n",
    "    #Logic for setting the count of rides to '0' for the hour where there were no rides for a particular zone\n",
    "    reference_df = pd.DataFrame({'datetime': pd.date_range(start=start_str, periods=month_day[month]*24, freq='H'), 'Score': 0})\n",
    "    \n",
    "    dropoff_merge = pd.DataFrame(columns=['DOLocationID', 'dropoff_year', 'dropoff_month', 'dropoff_day',\n",
    "       'dropoff_hour', 'Count', 'datetime'])\n",
    "    \n",
    "    for location in range(1,264):\n",
    "        filtered_df = dropoff_group[dropoff_group['DOLocationID'] == location]\n",
    "        merge_df = pd.merge(filtered_df,reference_df,on='datetime',how='outer')\n",
    "        \n",
    "        merge_df=merge_df.drop(columns=['Score'])\n",
    "        merge_df['DOLocationID']=merge_df['DOLocationID'].fillna(location)\n",
    "        merge_df['dropoff_year'] = merge_df['dropoff_year'].fillna(year)\n",
    "        merge_df['dropoff_month'] = merge_df['dropoff_month'].fillna(month)\n",
    "        merge_df['dropoff_day'] = merge_df['datetime'].apply(extract_day)\n",
    "        merge_df['dropoff_hour'] = merge_df['datetime'].apply(extract_hour)\n",
    "        merge_df['Count'] = merge_df['Count'].fillna(0)\n",
    "        \n",
    "        dropoff_merge = pd.concat([dropoff_merge,merge_df],ignore_index=True)\n",
    "    \n",
    "    print('------------------------------------------------------------')\n",
    "    print('----------------DROP OFF DATABASE CREATED-------------------')\n",
    "    print('------------------------------------------------------------')\n",
    "    return dropoff_merge  \n",
    "    "
   ]
  },
  {
   "cell_type": "code",
   "execution_count": 7,
   "metadata": {},
   "outputs": [],
   "source": [
    "def monthly_weather_ride_pickup(df,weather):\n",
    "    empty_df = pd.DataFrame()\n",
    "    for location in range(1,264):\n",
    "        filtered_df = df[df['PULocationID'] == location]\n",
    "        merge_df= pd.merge(weather,filtered_df,on='datetime',how='inner')\n",
    "        empty_df=pd.concat([empty_df,merge_df],ignore_index=True)\n",
    "    print(empty_df.shape)\n",
    "   \n",
    "    print('---------------MERGING WEATHER DATA COMPLETED--------------')\n",
    "    \n",
    "    return empty_df"
   ]
  },
  {
   "cell_type": "code",
   "execution_count": 8,
   "metadata": {},
   "outputs": [],
   "source": [
    "def monthly_weather_ride_dropoff(df,weather):\n",
    "    empty_df = pd.DataFrame()\n",
    "    for location in range(1,264):\n",
    "        filtered_df = df[df['DOLocationID'] == location]\n",
    "        merge_df= pd.merge(weather,filtered_df,on='datetime',how='inner')\n",
    "        empty_df=pd.concat([empty_df,merge_df],ignore_index=True)\n",
    "    print(empty_df.shape)\n",
    "    \n",
    "    print('---------------MERGING WEATHER DATA COMPLETED--------------')\n",
    "    return empty_df"
   ]
  },
  {
   "cell_type": "code",
   "execution_count": 9,
   "metadata": {},
   "outputs": [],
   "source": [
    "def all_in_one(df):\n",
    "    df = cleaning(df)\n",
    "    df = feature_engineering(df)\n",
    "    month = df['pickup_month'].unique()[0]\n",
    "    year = df['pickup_year'].unique()[0]\n",
    "    df = cleaning_fe(df,year,month)\n",
    "    pickup_2019 = pickup_database(df)\n",
    "    dropoff_2019 = dropoff_database(df)\n",
    "    weather_utc = pd.read_csv('C:/Users/Arinab/Desktop/DataScience/capstone/Processed-dataframe/weather_data_final.csv')\n",
    "    weather = weather_utc[['datetime','apparentTemperature','summary','windSpeed']]\n",
    "    weather['datetime'] = pd.to_datetime(weather['datetime'])\n",
    "    \n",
    "    weather_pickup_2019 = monthly_weather_ride_pickup(pickup_2019,weather)\n",
    "    weather_dropoff_2019 = monthly_weather_ride_dropoff(dropoff_2019,weather)\n",
    "    \n",
    "    return weather_pickup_2019,weather_dropoff_2019\n",
    "    "
   ]
  },
  {
   "cell_type": "code",
   "execution_count": 4,
   "metadata": {},
   "outputs": [],
   "source": [
    "# df = pd.read_csv('C:/Users/Arinab/Desktop/DataScience/capstone/Trips/yellow_tripdata_2018-12.csv')"
   ]
  },
  {
   "cell_type": "code",
   "execution_count": 110,
   "metadata": {},
   "outputs": [
    {
     "name": "stdout",
     "output_type": "stream",
     "text": [
      "Shape of the database before Cleaning:  (8173231, 17)\n",
      "Shape of the database after Cleaning:  (7918146, 7)\n",
      "------------------------------------------------------------\n",
      "----------------FIRST CLEANING COMPLETED--------------------\n",
      "------------------------------------------------------------\n",
      "------------------------------------------------------------\n",
      "----------------FEATURE ENGINEERING COMPLETED--------------\n",
      "------------------------------------------------------------\n",
      "--------CLEANING AFTER FEATURE ENGINEERING COMPLETED--------\n",
      "------------------------------------------------------------\n",
      "2018-12-01 15:00:00\n",
      "------------------------------------------------------------\n",
      "----------------PICK UP DATABASE CREATED--------------\n",
      "------------------------------------------------------------\n",
      "2018-12-01 01:00:00\n",
      "------------------------------------------------------------\n",
      "----------------DROP OFF DATABASE CREATED-------------------\n",
      "------------------------------------------------------------\n"
     ]
    },
    {
     "name": "stderr",
     "output_type": "stream",
     "text": [
      "C:\\ProgramData\\Anaconda3\\lib\\site-packages\\ipykernel_launcher.py:11: SettingWithCopyWarning: \n",
      "A value is trying to be set on a copy of a slice from a DataFrame.\n",
      "Try using .loc[row_indexer,col_indexer] = value instead\n",
      "\n",
      "See the caveats in the documentation: http://pandas.pydata.org/pandas-docs/stable/indexing.html#indexing-view-versus-copy\n",
      "  # This is added back by InteractiveShellApp.init_path()\n"
     ]
    },
    {
     "name": "stdout",
     "output_type": "stream",
     "text": [
      "(195672, 10)\n",
      "---------------MERGING WEATHER DATA COMPLETED--------------\n",
      "(195672, 10)\n",
      "---------------MERGING WEATHER DATA COMPLETED--------------\n"
     ]
    }
   ],
   "source": [
    "weather_pickup_dec_2018, weather_dropoff_dec_2018 = all_in_one(df)"
   ]
  },
  {
   "cell_type": "code",
   "execution_count": 116,
   "metadata": {},
   "outputs": [],
   "source": [
    "weather_pickup_dec_2018.to_csv('C:/Users/Arinab/Desktop/DataScience/capstone/Processed-dataframe/weather_pickup_dec_2018.csv')"
   ]
  },
  {
   "cell_type": "code",
   "execution_count": 117,
   "metadata": {},
   "outputs": [],
   "source": [
    "weather_dropoff_dec_2018.to_csv('C:/Users/Arinab/Desktop/DataScience/capstone/Processed-dataframe/weather_dropoff_dec_2018.csv')"
   ]
  },
  {
   "cell_type": "code",
   "execution_count": 99,
   "metadata": {},
   "outputs": [
    {
     "data": {
      "text/plain": [
       "(195409, 10)"
      ]
     },
     "execution_count": 99,
     "metadata": {},
     "output_type": "execute_result"
    }
   ],
   "source": [
    "weather_pickup_oct_2018.shape"
   ]
  },
  {
   "cell_type": "code",
   "execution_count": 100,
   "metadata": {},
   "outputs": [
    {
     "data": {
      "text/plain": [
       "(195409, 10)"
      ]
     },
     "execution_count": 100,
     "metadata": {},
     "output_type": "execute_result"
    }
   ],
   "source": [
    "weather_dropoff_oct_2018.shape"
   ]
  },
  {
   "cell_type": "code",
   "execution_count": null,
   "metadata": {},
   "outputs": [],
   "source": []
  },
  {
   "cell_type": "code",
   "execution_count": 115,
   "metadata": {},
   "outputs": [
    {
     "data": {
      "text/html": [
       "<div>\n",
       "<style scoped>\n",
       "    .dataframe tbody tr th:only-of-type {\n",
       "        vertical-align: middle;\n",
       "    }\n",
       "\n",
       "    .dataframe tbody tr th {\n",
       "        vertical-align: top;\n",
       "    }\n",
       "\n",
       "    .dataframe thead th {\n",
       "        text-align: right;\n",
       "    }\n",
       "</style>\n",
       "<table border=\"1\" class=\"dataframe\">\n",
       "  <thead>\n",
       "    <tr style=\"text-align: right;\">\n",
       "      <th></th>\n",
       "      <th>datetime</th>\n",
       "      <th>apparentTemperature</th>\n",
       "      <th>summary</th>\n",
       "      <th>windSpeed</th>\n",
       "      <th>PULocationID</th>\n",
       "      <th>pickup_year</th>\n",
       "      <th>pickup_month</th>\n",
       "      <th>pickup_day</th>\n",
       "      <th>pickup_hour</th>\n",
       "      <th>Count</th>\n",
       "    </tr>\n",
       "  </thead>\n",
       "  <tbody>\n",
       "    <tr>\n",
       "      <th>0</th>\n",
       "      <td>2018-12-01 00:00:00</td>\n",
       "      <td>36.75</td>\n",
       "      <td>Partly Cloudy</td>\n",
       "      <td>1.57</td>\n",
       "      <td>1.0</td>\n",
       "      <td>2018</td>\n",
       "      <td>12</td>\n",
       "      <td>01</td>\n",
       "      <td>00</td>\n",
       "      <td>0.0</td>\n",
       "    </tr>\n",
       "    <tr>\n",
       "      <th>1</th>\n",
       "      <td>2018-12-01 01:00:00</td>\n",
       "      <td>37.50</td>\n",
       "      <td>Partly Cloudy</td>\n",
       "      <td>1.27</td>\n",
       "      <td>1.0</td>\n",
       "      <td>2018</td>\n",
       "      <td>12</td>\n",
       "      <td>01</td>\n",
       "      <td>01</td>\n",
       "      <td>0.0</td>\n",
       "    </tr>\n",
       "    <tr>\n",
       "      <th>2</th>\n",
       "      <td>2018-12-01 02:00:00</td>\n",
       "      <td>38.59</td>\n",
       "      <td>Partly Cloudy</td>\n",
       "      <td>1.20</td>\n",
       "      <td>1.0</td>\n",
       "      <td>2018</td>\n",
       "      <td>12</td>\n",
       "      <td>01</td>\n",
       "      <td>02</td>\n",
       "      <td>0.0</td>\n",
       "    </tr>\n",
       "    <tr>\n",
       "      <th>3</th>\n",
       "      <td>2018-12-01 03:00:00</td>\n",
       "      <td>40.04</td>\n",
       "      <td>Partly Cloudy</td>\n",
       "      <td>1.87</td>\n",
       "      <td>1.0</td>\n",
       "      <td>2018</td>\n",
       "      <td>12</td>\n",
       "      <td>01</td>\n",
       "      <td>03</td>\n",
       "      <td>0.0</td>\n",
       "    </tr>\n",
       "    <tr>\n",
       "      <th>4</th>\n",
       "      <td>2018-12-01 04:00:00</td>\n",
       "      <td>41.02</td>\n",
       "      <td>Mostly Cloudy</td>\n",
       "      <td>2.46</td>\n",
       "      <td>1.0</td>\n",
       "      <td>2018</td>\n",
       "      <td>12</td>\n",
       "      <td>01</td>\n",
       "      <td>04</td>\n",
       "      <td>0.0</td>\n",
       "    </tr>\n",
       "  </tbody>\n",
       "</table>\n",
       "</div>"
      ],
      "text/plain": [
       "             datetime  apparentTemperature        summary  windSpeed  \\\n",
       "0 2018-12-01 00:00:00                36.75  Partly Cloudy       1.57   \n",
       "1 2018-12-01 01:00:00                37.50  Partly Cloudy       1.27   \n",
       "2 2018-12-01 02:00:00                38.59  Partly Cloudy       1.20   \n",
       "3 2018-12-01 03:00:00                40.04  Partly Cloudy       1.87   \n",
       "4 2018-12-01 04:00:00                41.02  Mostly Cloudy       2.46   \n",
       "\n",
       "   PULocationID pickup_year pickup_month pickup_day pickup_hour  Count  \n",
       "0           1.0        2018           12         01          00    0.0  \n",
       "1           1.0        2018           12         01          01    0.0  \n",
       "2           1.0        2018           12         01          02    0.0  \n",
       "3           1.0        2018           12         01          03    0.0  \n",
       "4           1.0        2018           12         01          04    0.0  "
      ]
     },
     "execution_count": 115,
     "metadata": {},
     "output_type": "execute_result"
    }
   ],
   "source": [
    "weather_pickup_dec_2018.head()"
   ]
  },
  {
   "cell_type": "code",
   "execution_count": 114,
   "metadata": {},
   "outputs": [
    {
     "data": {
      "text/html": [
       "<div>\n",
       "<style scoped>\n",
       "    .dataframe tbody tr th:only-of-type {\n",
       "        vertical-align: middle;\n",
       "    }\n",
       "\n",
       "    .dataframe tbody tr th {\n",
       "        vertical-align: top;\n",
       "    }\n",
       "\n",
       "    .dataframe thead th {\n",
       "        text-align: right;\n",
       "    }\n",
       "</style>\n",
       "<table border=\"1\" class=\"dataframe\">\n",
       "  <thead>\n",
       "    <tr style=\"text-align: right;\">\n",
       "      <th></th>\n",
       "      <th>datetime</th>\n",
       "      <th>apparentTemperature</th>\n",
       "      <th>summary</th>\n",
       "      <th>windSpeed</th>\n",
       "      <th>PULocationID</th>\n",
       "      <th>pickup_year</th>\n",
       "      <th>pickup_month</th>\n",
       "      <th>pickup_day</th>\n",
       "      <th>pickup_hour</th>\n",
       "      <th>Count</th>\n",
       "    </tr>\n",
       "  </thead>\n",
       "  <tbody>\n",
       "    <tr>\n",
       "      <th>195667</th>\n",
       "      <td>2018-12-31 19:00:00</td>\n",
       "      <td>31.17</td>\n",
       "      <td>Mostly Cloudy</td>\n",
       "      <td>1.53</td>\n",
       "      <td>263.0</td>\n",
       "      <td>2018</td>\n",
       "      <td>12</td>\n",
       "      <td>31</td>\n",
       "      <td>19</td>\n",
       "      <td>483.0</td>\n",
       "    </tr>\n",
       "    <tr>\n",
       "      <th>195668</th>\n",
       "      <td>2018-12-31 20:00:00</td>\n",
       "      <td>31.69</td>\n",
       "      <td>Mostly Cloudy</td>\n",
       "      <td>1.54</td>\n",
       "      <td>263.0</td>\n",
       "      <td>2018</td>\n",
       "      <td>12</td>\n",
       "      <td>31</td>\n",
       "      <td>20</td>\n",
       "      <td>456.0</td>\n",
       "    </tr>\n",
       "    <tr>\n",
       "      <th>195669</th>\n",
       "      <td>2018-12-31 21:00:00</td>\n",
       "      <td>31.59</td>\n",
       "      <td>Mostly Cloudy</td>\n",
       "      <td>1.54</td>\n",
       "      <td>263.0</td>\n",
       "      <td>2018</td>\n",
       "      <td>12</td>\n",
       "      <td>31</td>\n",
       "      <td>21</td>\n",
       "      <td>439.0</td>\n",
       "    </tr>\n",
       "    <tr>\n",
       "      <th>195670</th>\n",
       "      <td>2018-12-31 22:00:00</td>\n",
       "      <td>31.23</td>\n",
       "      <td>Mostly Cloudy</td>\n",
       "      <td>1.40</td>\n",
       "      <td>263.0</td>\n",
       "      <td>2018</td>\n",
       "      <td>12</td>\n",
       "      <td>31</td>\n",
       "      <td>22</td>\n",
       "      <td>313.0</td>\n",
       "    </tr>\n",
       "    <tr>\n",
       "      <th>195671</th>\n",
       "      <td>2018-12-31 23:00:00</td>\n",
       "      <td>32.56</td>\n",
       "      <td>Mostly Cloudy</td>\n",
       "      <td>1.65</td>\n",
       "      <td>263.0</td>\n",
       "      <td>2018</td>\n",
       "      <td>12</td>\n",
       "      <td>31</td>\n",
       "      <td>23</td>\n",
       "      <td>193.0</td>\n",
       "    </tr>\n",
       "  </tbody>\n",
       "</table>\n",
       "</div>"
      ],
      "text/plain": [
       "                  datetime  apparentTemperature        summary  windSpeed  \\\n",
       "195667 2018-12-31 19:00:00                31.17  Mostly Cloudy       1.53   \n",
       "195668 2018-12-31 20:00:00                31.69  Mostly Cloudy       1.54   \n",
       "195669 2018-12-31 21:00:00                31.59  Mostly Cloudy       1.54   \n",
       "195670 2018-12-31 22:00:00                31.23  Mostly Cloudy       1.40   \n",
       "195671 2018-12-31 23:00:00                32.56  Mostly Cloudy       1.65   \n",
       "\n",
       "        PULocationID pickup_year pickup_month pickup_day pickup_hour  Count  \n",
       "195667         263.0        2018           12         31          19  483.0  \n",
       "195668         263.0        2018           12         31          20  456.0  \n",
       "195669         263.0        2018           12         31          21  439.0  \n",
       "195670         263.0        2018           12         31          22  313.0  \n",
       "195671         263.0        2018           12         31          23  193.0  "
      ]
     },
     "execution_count": 114,
     "metadata": {},
     "output_type": "execute_result"
    }
   ],
   "source": [
    "weather_pickup_dec_2018.tail()"
   ]
  },
  {
   "cell_type": "code",
   "execution_count": 113,
   "metadata": {},
   "outputs": [
    {
     "data": {
      "text/html": [
       "<div>\n",
       "<style scoped>\n",
       "    .dataframe tbody tr th:only-of-type {\n",
       "        vertical-align: middle;\n",
       "    }\n",
       "\n",
       "    .dataframe tbody tr th {\n",
       "        vertical-align: top;\n",
       "    }\n",
       "\n",
       "    .dataframe thead th {\n",
       "        text-align: right;\n",
       "    }\n",
       "</style>\n",
       "<table border=\"1\" class=\"dataframe\">\n",
       "  <thead>\n",
       "    <tr style=\"text-align: right;\">\n",
       "      <th></th>\n",
       "      <th>datetime</th>\n",
       "      <th>apparentTemperature</th>\n",
       "      <th>summary</th>\n",
       "      <th>windSpeed</th>\n",
       "      <th>DOLocationID</th>\n",
       "      <th>dropoff_year</th>\n",
       "      <th>dropoff_month</th>\n",
       "      <th>dropoff_day</th>\n",
       "      <th>dropoff_hour</th>\n",
       "      <th>Count</th>\n",
       "    </tr>\n",
       "  </thead>\n",
       "  <tbody>\n",
       "    <tr>\n",
       "      <th>0</th>\n",
       "      <td>2018-12-01 00:00:00</td>\n",
       "      <td>36.75</td>\n",
       "      <td>Partly Cloudy</td>\n",
       "      <td>1.57</td>\n",
       "      <td>1.0</td>\n",
       "      <td>2018</td>\n",
       "      <td>12</td>\n",
       "      <td>01</td>\n",
       "      <td>00</td>\n",
       "      <td>0.0</td>\n",
       "    </tr>\n",
       "    <tr>\n",
       "      <th>1</th>\n",
       "      <td>2018-12-01 01:00:00</td>\n",
       "      <td>37.50</td>\n",
       "      <td>Partly Cloudy</td>\n",
       "      <td>1.27</td>\n",
       "      <td>1.0</td>\n",
       "      <td>2018</td>\n",
       "      <td>12</td>\n",
       "      <td>01</td>\n",
       "      <td>01</td>\n",
       "      <td>1.0</td>\n",
       "    </tr>\n",
       "    <tr>\n",
       "      <th>2</th>\n",
       "      <td>2018-12-01 02:00:00</td>\n",
       "      <td>38.59</td>\n",
       "      <td>Partly Cloudy</td>\n",
       "      <td>1.20</td>\n",
       "      <td>1.0</td>\n",
       "      <td>2018</td>\n",
       "      <td>12</td>\n",
       "      <td>01</td>\n",
       "      <td>02</td>\n",
       "      <td>1.0</td>\n",
       "    </tr>\n",
       "    <tr>\n",
       "      <th>3</th>\n",
       "      <td>2018-12-01 03:00:00</td>\n",
       "      <td>40.04</td>\n",
       "      <td>Partly Cloudy</td>\n",
       "      <td>1.87</td>\n",
       "      <td>1.0</td>\n",
       "      <td>2018</td>\n",
       "      <td>12</td>\n",
       "      <td>01</td>\n",
       "      <td>03</td>\n",
       "      <td>3.0</td>\n",
       "    </tr>\n",
       "    <tr>\n",
       "      <th>4</th>\n",
       "      <td>2018-12-01 04:00:00</td>\n",
       "      <td>41.02</td>\n",
       "      <td>Mostly Cloudy</td>\n",
       "      <td>2.46</td>\n",
       "      <td>1.0</td>\n",
       "      <td>2018</td>\n",
       "      <td>12</td>\n",
       "      <td>01</td>\n",
       "      <td>04</td>\n",
       "      <td>6.0</td>\n",
       "    </tr>\n",
       "  </tbody>\n",
       "</table>\n",
       "</div>"
      ],
      "text/plain": [
       "             datetime  apparentTemperature        summary  windSpeed  \\\n",
       "0 2018-12-01 00:00:00                36.75  Partly Cloudy       1.57   \n",
       "1 2018-12-01 01:00:00                37.50  Partly Cloudy       1.27   \n",
       "2 2018-12-01 02:00:00                38.59  Partly Cloudy       1.20   \n",
       "3 2018-12-01 03:00:00                40.04  Partly Cloudy       1.87   \n",
       "4 2018-12-01 04:00:00                41.02  Mostly Cloudy       2.46   \n",
       "\n",
       "   DOLocationID dropoff_year dropoff_month dropoff_day dropoff_hour  Count  \n",
       "0           1.0         2018            12          01           00    0.0  \n",
       "1           1.0         2018            12          01           01    1.0  \n",
       "2           1.0         2018            12          01           02    1.0  \n",
       "3           1.0         2018            12          01           03    3.0  \n",
       "4           1.0         2018            12          01           04    6.0  "
      ]
     },
     "execution_count": 113,
     "metadata": {},
     "output_type": "execute_result"
    }
   ],
   "source": [
    "weather_dropoff_dec_2018.head()"
   ]
  },
  {
   "cell_type": "code",
   "execution_count": 111,
   "metadata": {},
   "outputs": [
    {
     "data": {
      "text/html": [
       "<div>\n",
       "<style scoped>\n",
       "    .dataframe tbody tr th:only-of-type {\n",
       "        vertical-align: middle;\n",
       "    }\n",
       "\n",
       "    .dataframe tbody tr th {\n",
       "        vertical-align: top;\n",
       "    }\n",
       "\n",
       "    .dataframe thead th {\n",
       "        text-align: right;\n",
       "    }\n",
       "</style>\n",
       "<table border=\"1\" class=\"dataframe\">\n",
       "  <thead>\n",
       "    <tr style=\"text-align: right;\">\n",
       "      <th></th>\n",
       "      <th>datetime</th>\n",
       "      <th>apparentTemperature</th>\n",
       "      <th>summary</th>\n",
       "      <th>windSpeed</th>\n",
       "      <th>DOLocationID</th>\n",
       "      <th>dropoff_year</th>\n",
       "      <th>dropoff_month</th>\n",
       "      <th>dropoff_day</th>\n",
       "      <th>dropoff_hour</th>\n",
       "      <th>Count</th>\n",
       "    </tr>\n",
       "  </thead>\n",
       "  <tbody>\n",
       "    <tr>\n",
       "      <th>195667</th>\n",
       "      <td>2018-12-31 19:00:00</td>\n",
       "      <td>31.17</td>\n",
       "      <td>Mostly Cloudy</td>\n",
       "      <td>1.53</td>\n",
       "      <td>263.0</td>\n",
       "      <td>2018</td>\n",
       "      <td>12</td>\n",
       "      <td>31</td>\n",
       "      <td>19</td>\n",
       "      <td>434.0</td>\n",
       "    </tr>\n",
       "    <tr>\n",
       "      <th>195668</th>\n",
       "      <td>2018-12-31 20:00:00</td>\n",
       "      <td>31.69</td>\n",
       "      <td>Mostly Cloudy</td>\n",
       "      <td>1.54</td>\n",
       "      <td>263.0</td>\n",
       "      <td>2018</td>\n",
       "      <td>12</td>\n",
       "      <td>31</td>\n",
       "      <td>20</td>\n",
       "      <td>363.0</td>\n",
       "    </tr>\n",
       "    <tr>\n",
       "      <th>195669</th>\n",
       "      <td>2018-12-31 21:00:00</td>\n",
       "      <td>31.59</td>\n",
       "      <td>Mostly Cloudy</td>\n",
       "      <td>1.54</td>\n",
       "      <td>263.0</td>\n",
       "      <td>2018</td>\n",
       "      <td>12</td>\n",
       "      <td>31</td>\n",
       "      <td>21</td>\n",
       "      <td>392.0</td>\n",
       "    </tr>\n",
       "    <tr>\n",
       "      <th>195670</th>\n",
       "      <td>2018-12-31 22:00:00</td>\n",
       "      <td>31.23</td>\n",
       "      <td>Mostly Cloudy</td>\n",
       "      <td>1.40</td>\n",
       "      <td>263.0</td>\n",
       "      <td>2018</td>\n",
       "      <td>12</td>\n",
       "      <td>31</td>\n",
       "      <td>22</td>\n",
       "      <td>291.0</td>\n",
       "    </tr>\n",
       "    <tr>\n",
       "      <th>195671</th>\n",
       "      <td>2018-12-31 23:00:00</td>\n",
       "      <td>32.56</td>\n",
       "      <td>Mostly Cloudy</td>\n",
       "      <td>1.65</td>\n",
       "      <td>263.0</td>\n",
       "      <td>2018</td>\n",
       "      <td>12</td>\n",
       "      <td>31</td>\n",
       "      <td>23</td>\n",
       "      <td>231.0</td>\n",
       "    </tr>\n",
       "  </tbody>\n",
       "</table>\n",
       "</div>"
      ],
      "text/plain": [
       "                  datetime  apparentTemperature        summary  windSpeed  \\\n",
       "195667 2018-12-31 19:00:00                31.17  Mostly Cloudy       1.53   \n",
       "195668 2018-12-31 20:00:00                31.69  Mostly Cloudy       1.54   \n",
       "195669 2018-12-31 21:00:00                31.59  Mostly Cloudy       1.54   \n",
       "195670 2018-12-31 22:00:00                31.23  Mostly Cloudy       1.40   \n",
       "195671 2018-12-31 23:00:00                32.56  Mostly Cloudy       1.65   \n",
       "\n",
       "        DOLocationID dropoff_year dropoff_month dropoff_day dropoff_hour  \\\n",
       "195667         263.0         2018            12          31           19   \n",
       "195668         263.0         2018            12          31           20   \n",
       "195669         263.0         2018            12          31           21   \n",
       "195670         263.0         2018            12          31           22   \n",
       "195671         263.0         2018            12          31           23   \n",
       "\n",
       "        Count  \n",
       "195667  434.0  \n",
       "195668  363.0  \n",
       "195669  392.0  \n",
       "195670  291.0  \n",
       "195671  231.0  "
      ]
     },
     "execution_count": 111,
     "metadata": {},
     "output_type": "execute_result"
    }
   ],
   "source": [
    "weather_dropoff_dec_2018.tail()"
   ]
  },
  {
   "cell_type": "code",
   "execution_count": 37,
   "metadata": {},
   "outputs": [
    {
     "data": {
      "text/plain": [
       "Timestamp('2018-04-01 00:00:00')"
      ]
     },
     "execution_count": 37,
     "metadata": {},
     "output_type": "execute_result"
    }
   ],
   "source": [
    "weather_pickup_apr_2018['datetime'].min()"
   ]
  },
  {
   "cell_type": "code",
   "execution_count": 38,
   "metadata": {},
   "outputs": [
    {
     "data": {
      "text/plain": [
       "Timestamp('2018-04-30 23:00:00')"
      ]
     },
     "execution_count": 38,
     "metadata": {},
     "output_type": "execute_result"
    }
   ],
   "source": [
    "weather_pickup_apr_2018['datetime'].max()"
   ]
  },
  {
   "cell_type": "code",
   "execution_count": 58,
   "metadata": {},
   "outputs": [],
   "source": [
    "import matplotlib.pyplot as plt\n",
    "import seaborn as sns"
   ]
  },
  {
   "cell_type": "code",
   "execution_count": 58,
   "metadata": {},
   "outputs": [
    {
     "data": {
      "text/plain": [
       "<matplotlib.axes._subplots.AxesSubplot at 0x204bface940>"
      ]
     },
     "execution_count": 58,
     "metadata": {},
     "output_type": "execute_result"
    },
    {
     "data": {
      "image/png": "[encoded data removed]",
      "text/plain": [
       "<Figure size 432x288 with 1 Axes>"
      ]
     },
     "metadata": {
      "needs_background": "light"
     },
     "output_type": "display_data"
    }
   ],
   "source": [
    "sns.lineplot(x='datetime',y='Count',data=weather_pickup_apr_2018[weather_pickup_apr_2018['PULocationID']==261] )"
   ]
  },
  {
   "cell_type": "markdown",
   "metadata": {},
   "source": [
    "## Read all the pickup and dropoff files and create one single frame each for pickup and dropoff "
   ]
  },
  {
   "cell_type": "markdown",
   "metadata": {},
   "source": [
    "### Pickup Frame creation"
   ]
  },
  {
   "cell_type": "code",
   "execution_count": 11,
   "metadata": {},
   "outputs": [],
   "source": [
    "path = r'C:\\Users\\Arinab\\Desktop\\DataScience\\capstone\\Processed-dataframe\\pickup-2018' # use your path\n",
    "all_files = glob.glob(path + \"/*.csv\")\n",
    "\n",
    "li = []\n",
    "\n",
    "for filename in all_files:\n",
    "    df = pd.read_csv(filename, index_col=None, header=0)\n",
    "    li.append(df)\n",
    "\n",
    "pick_frame = pd.concat(li, axis=0, ignore_index=True)"
   ]
  },
  {
   "cell_type": "code",
   "execution_count": 12,
   "metadata": {},
   "outputs": [
    {
     "data": {
      "text/plain": [
       "(2303880, 11)"
      ]
     },
     "execution_count": 12,
     "metadata": {},
     "output_type": "execute_result"
    }
   ],
   "source": [
    "pick_frame.shape"
   ]
  },
  {
   "cell_type": "code",
   "execution_count": 13,
   "metadata": {},
   "outputs": [
    {
     "data": {
      "text/html": [
       "<div>\n",
       "<style scoped>\n",
       "    .dataframe tbody tr th:only-of-type {\n",
       "        vertical-align: middle;\n",
       "    }\n",
       "\n",
       "    .dataframe tbody tr th {\n",
       "        vertical-align: top;\n",
       "    }\n",
       "\n",
       "    .dataframe thead th {\n",
       "        text-align: right;\n",
       "    }\n",
       "</style>\n",
       "<table border=\"1\" class=\"dataframe\">\n",
       "  <thead>\n",
       "    <tr style=\"text-align: right;\">\n",
       "      <th></th>\n",
       "      <th>Unnamed: 0</th>\n",
       "      <th>datetime</th>\n",
       "      <th>apparentTemperature</th>\n",
       "      <th>summary</th>\n",
       "      <th>windSpeed</th>\n",
       "      <th>PULocationID</th>\n",
       "      <th>pickup_year</th>\n",
       "      <th>pickup_month</th>\n",
       "      <th>pickup_day</th>\n",
       "      <th>pickup_hour</th>\n",
       "      <th>Count</th>\n",
       "    </tr>\n",
       "  </thead>\n",
       "  <tbody>\n",
       "    <tr>\n",
       "      <th>0</th>\n",
       "      <td>0</td>\n",
       "      <td>2018-04-01 00:00:00</td>\n",
       "      <td>40.42</td>\n",
       "      <td>Clear</td>\n",
       "      <td>3.27</td>\n",
       "      <td>1.0</td>\n",
       "      <td>2018</td>\n",
       "      <td>4</td>\n",
       "      <td>1</td>\n",
       "      <td>0</td>\n",
       "      <td>0.0</td>\n",
       "    </tr>\n",
       "    <tr>\n",
       "      <th>1</th>\n",
       "      <td>1</td>\n",
       "      <td>2018-04-01 01:00:00</td>\n",
       "      <td>45.16</td>\n",
       "      <td>Clear</td>\n",
       "      <td>2.28</td>\n",
       "      <td>1.0</td>\n",
       "      <td>2018</td>\n",
       "      <td>4</td>\n",
       "      <td>1</td>\n",
       "      <td>1</td>\n",
       "      <td>0.0</td>\n",
       "    </tr>\n",
       "    <tr>\n",
       "      <th>2</th>\n",
       "      <td>2</td>\n",
       "      <td>2018-04-01 02:00:00</td>\n",
       "      <td>48.38</td>\n",
       "      <td>Clear</td>\n",
       "      <td>1.34</td>\n",
       "      <td>1.0</td>\n",
       "      <td>2018</td>\n",
       "      <td>4</td>\n",
       "      <td>1</td>\n",
       "      <td>2</td>\n",
       "      <td>0.0</td>\n",
       "    </tr>\n",
       "    <tr>\n",
       "      <th>3</th>\n",
       "      <td>3</td>\n",
       "      <td>2018-04-01 02:00:00</td>\n",
       "      <td>51.37</td>\n",
       "      <td>Clear</td>\n",
       "      <td>1.68</td>\n",
       "      <td>1.0</td>\n",
       "      <td>2018</td>\n",
       "      <td>4</td>\n",
       "      <td>1</td>\n",
       "      <td>2</td>\n",
       "      <td>0.0</td>\n",
       "    </tr>\n",
       "    <tr>\n",
       "      <th>4</th>\n",
       "      <td>4</td>\n",
       "      <td>2018-04-01 03:00:00</td>\n",
       "      <td>53.91</td>\n",
       "      <td>Clear</td>\n",
       "      <td>2.96</td>\n",
       "      <td>1.0</td>\n",
       "      <td>2018</td>\n",
       "      <td>4</td>\n",
       "      <td>1</td>\n",
       "      <td>3</td>\n",
       "      <td>0.0</td>\n",
       "    </tr>\n",
       "  </tbody>\n",
       "</table>\n",
       "</div>"
      ],
      "text/plain": [
       "   Unnamed: 0             datetime  apparentTemperature summary  windSpeed  \\\n",
       "0           0  2018-04-01 00:00:00                40.42   Clear       3.27   \n",
       "1           1  2018-04-01 01:00:00                45.16   Clear       2.28   \n",
       "2           2  2018-04-01 02:00:00                48.38   Clear       1.34   \n",
       "3           3  2018-04-01 02:00:00                51.37   Clear       1.68   \n",
       "4           4  2018-04-01 03:00:00                53.91   Clear       2.96   \n",
       "\n",
       "   PULocationID  pickup_year  pickup_month  pickup_day  pickup_hour  Count  \n",
       "0           1.0         2018             4           1            0    0.0  \n",
       "1           1.0         2018             4           1            1    0.0  \n",
       "2           1.0         2018             4           1            2    0.0  \n",
       "3           1.0         2018             4           1            2    0.0  \n",
       "4           1.0         2018             4           1            3    0.0  "
      ]
     },
     "execution_count": 13,
     "metadata": {},
     "output_type": "execute_result"
    }
   ],
   "source": [
    "pick_frame.head()"
   ]
  },
  {
   "cell_type": "code",
   "execution_count": 14,
   "metadata": {},
   "outputs": [
    {
     "name": "stdout",
     "output_type": "stream",
     "text": [
      "[ 4  8 12  2  1  7  6  3  5 11 10  9]\n",
      "12\n"
     ]
    }
   ],
   "source": [
    "print(pick_frame['pickup_month'].unique())\n",
    "print(pick_frame['pickup_month'].nunique())"
   ]
  },
  {
   "cell_type": "code",
   "execution_count": 15,
   "metadata": {},
   "outputs": [
    {
     "name": "stdout",
     "output_type": "stream",
     "text": [
      "[ 0  1  2  3  4  5  6  7  8  9 10 11 12 13 14 15 16 17 18 19 20 21 22 23]\n",
      "24\n"
     ]
    }
   ],
   "source": [
    "print(pick_frame['pickup_hour'].unique())\n",
    "print(pick_frame['pickup_hour'].nunique())"
   ]
  },
  {
   "cell_type": "code",
   "execution_count": 16,
   "metadata": {},
   "outputs": [
    {
     "name": "stdout",
     "output_type": "stream",
     "text": [
      "[ 1  2  3  4  5  6  7  8  9 10 11 12 13 14 15 16 17 18 19 20 21 22 23 24\n",
      " 25 26 27 28 29 30 31]\n",
      "31\n"
     ]
    }
   ],
   "source": [
    "print(pick_frame['pickup_day'].unique())\n",
    "print(pick_frame['pickup_day'].nunique())"
   ]
  },
  {
   "cell_type": "code",
   "execution_count": 17,
   "metadata": {},
   "outputs": [],
   "source": [
    "pick_frame.drop(columns=['Unnamed: 0'],inplace=True)"
   ]
  },
  {
   "cell_type": "code",
   "execution_count": 19,
   "metadata": {},
   "outputs": [
    {
     "data": {
      "text/html": [
       "<div>\n",
       "<style scoped>\n",
       "    .dataframe tbody tr th:only-of-type {\n",
       "        vertical-align: middle;\n",
       "    }\n",
       "\n",
       "    .dataframe tbody tr th {\n",
       "        vertical-align: top;\n",
       "    }\n",
       "\n",
       "    .dataframe thead th {\n",
       "        text-align: right;\n",
       "    }\n",
       "</style>\n",
       "<table border=\"1\" class=\"dataframe\">\n",
       "  <thead>\n",
       "    <tr style=\"text-align: right;\">\n",
       "      <th></th>\n",
       "      <th>datetime</th>\n",
       "      <th>apparentTemperature</th>\n",
       "      <th>summary</th>\n",
       "      <th>windSpeed</th>\n",
       "      <th>PULocationID</th>\n",
       "      <th>pickup_year</th>\n",
       "      <th>pickup_month</th>\n",
       "      <th>pickup_day</th>\n",
       "      <th>pickup_hour</th>\n",
       "      <th>Count</th>\n",
       "    </tr>\n",
       "  </thead>\n",
       "  <tbody>\n",
       "    <tr>\n",
       "      <th>0</th>\n",
       "      <td>2018-04-01 00:00:00</td>\n",
       "      <td>40.42</td>\n",
       "      <td>Clear</td>\n",
       "      <td>3.27</td>\n",
       "      <td>1.0</td>\n",
       "      <td>2018</td>\n",
       "      <td>4</td>\n",
       "      <td>1</td>\n",
       "      <td>0</td>\n",
       "      <td>0.0</td>\n",
       "    </tr>\n",
       "    <tr>\n",
       "      <th>1</th>\n",
       "      <td>2018-04-01 01:00:00</td>\n",
       "      <td>45.16</td>\n",
       "      <td>Clear</td>\n",
       "      <td>2.28</td>\n",
       "      <td>1.0</td>\n",
       "      <td>2018</td>\n",
       "      <td>4</td>\n",
       "      <td>1</td>\n",
       "      <td>1</td>\n",
       "      <td>0.0</td>\n",
       "    </tr>\n",
       "    <tr>\n",
       "      <th>2</th>\n",
       "      <td>2018-04-01 02:00:00</td>\n",
       "      <td>48.38</td>\n",
       "      <td>Clear</td>\n",
       "      <td>1.34</td>\n",
       "      <td>1.0</td>\n",
       "      <td>2018</td>\n",
       "      <td>4</td>\n",
       "      <td>1</td>\n",
       "      <td>2</td>\n",
       "      <td>0.0</td>\n",
       "    </tr>\n",
       "    <tr>\n",
       "      <th>3</th>\n",
       "      <td>2018-04-01 02:00:00</td>\n",
       "      <td>51.37</td>\n",
       "      <td>Clear</td>\n",
       "      <td>1.68</td>\n",
       "      <td>1.0</td>\n",
       "      <td>2018</td>\n",
       "      <td>4</td>\n",
       "      <td>1</td>\n",
       "      <td>2</td>\n",
       "      <td>0.0</td>\n",
       "    </tr>\n",
       "    <tr>\n",
       "      <th>4</th>\n",
       "      <td>2018-04-01 03:00:00</td>\n",
       "      <td>53.91</td>\n",
       "      <td>Clear</td>\n",
       "      <td>2.96</td>\n",
       "      <td>1.0</td>\n",
       "      <td>2018</td>\n",
       "      <td>4</td>\n",
       "      <td>1</td>\n",
       "      <td>3</td>\n",
       "      <td>0.0</td>\n",
       "    </tr>\n",
       "  </tbody>\n",
       "</table>\n",
       "</div>"
      ],
      "text/plain": [
       "              datetime  apparentTemperature summary  windSpeed  PULocationID  \\\n",
       "0  2018-04-01 00:00:00                40.42   Clear       3.27           1.0   \n",
       "1  2018-04-01 01:00:00                45.16   Clear       2.28           1.0   \n",
       "2  2018-04-01 02:00:00                48.38   Clear       1.34           1.0   \n",
       "3  2018-04-01 02:00:00                51.37   Clear       1.68           1.0   \n",
       "4  2018-04-01 03:00:00                53.91   Clear       2.96           1.0   \n",
       "\n",
       "   pickup_year  pickup_month  pickup_day  pickup_hour  Count  \n",
       "0         2018             4           1            0    0.0  \n",
       "1         2018             4           1            1    0.0  \n",
       "2         2018             4           1            2    0.0  \n",
       "3         2018             4           1            2    0.0  \n",
       "4         2018             4           1            3    0.0  "
      ]
     },
     "execution_count": 19,
     "metadata": {},
     "output_type": "execute_result"
    }
   ],
   "source": [
    "pick_frame.head()"
   ]
  },
  {
   "cell_type": "code",
   "execution_count": 22,
   "metadata": {},
   "outputs": [],
   "source": [
    "pick_frame.to_csv('C:/Users/Arinab/Desktop/DataScience/capstone/Processed-dataframe/complete_pickup_2018.csv')"
   ]
  },
  {
   "cell_type": "markdown",
   "metadata": {},
   "source": [
    "### Dropoff Frame Creation"
   ]
  },
  {
   "cell_type": "code",
   "execution_count": 23,
   "metadata": {},
   "outputs": [],
   "source": [
    "path = r'C:\\Users\\Arinab\\Desktop\\DataScience\\capstone\\Processed-dataframe\\dropoff-2018' # use your path\n",
    "all_files = glob.glob(path + \"/*.csv\")\n",
    "\n",
    "li = []\n",
    "\n",
    "for filename in all_files:\n",
    "    df = pd.read_csv(filename, index_col=None, header=0)\n",
    "    li.append(df)\n",
    "\n",
    "drop_frame = pd.concat(li, axis=0, ignore_index=True)"
   ]
  },
  {
   "cell_type": "code",
   "execution_count": 24,
   "metadata": {},
   "outputs": [
    {
     "data": {
      "text/plain": [
       "(2303880, 11)"
      ]
     },
     "execution_count": 24,
     "metadata": {},
     "output_type": "execute_result"
    }
   ],
   "source": [
    "drop_frame.shape"
   ]
  },
  {
   "cell_type": "code",
   "execution_count": 27,
   "metadata": {},
   "outputs": [
    {
     "data": {
      "text/html": [
       "<div>\n",
       "<style scoped>\n",
       "    .dataframe tbody tr th:only-of-type {\n",
       "        vertical-align: middle;\n",
       "    }\n",
       "\n",
       "    .dataframe tbody tr th {\n",
       "        vertical-align: top;\n",
       "    }\n",
       "\n",
       "    .dataframe thead th {\n",
       "        text-align: right;\n",
       "    }\n",
       "</style>\n",
       "<table border=\"1\" class=\"dataframe\">\n",
       "  <thead>\n",
       "    <tr style=\"text-align: right;\">\n",
       "      <th></th>\n",
       "      <th>datetime</th>\n",
       "      <th>apparentTemperature</th>\n",
       "      <th>summary</th>\n",
       "      <th>windSpeed</th>\n",
       "      <th>DOLocationID</th>\n",
       "      <th>dropoff_year</th>\n",
       "      <th>dropoff_month</th>\n",
       "      <th>dropoff_day</th>\n",
       "      <th>dropoff_hour</th>\n",
       "      <th>Count</th>\n",
       "    </tr>\n",
       "  </thead>\n",
       "  <tbody>\n",
       "    <tr>\n",
       "      <th>0</th>\n",
       "      <td>2018-04-01 00:00:00</td>\n",
       "      <td>40.42</td>\n",
       "      <td>Clear</td>\n",
       "      <td>3.27</td>\n",
       "      <td>1.0</td>\n",
       "      <td>2018</td>\n",
       "      <td>4</td>\n",
       "      <td>1</td>\n",
       "      <td>0</td>\n",
       "      <td>0.0</td>\n",
       "    </tr>\n",
       "    <tr>\n",
       "      <th>1</th>\n",
       "      <td>2018-04-01 01:00:00</td>\n",
       "      <td>45.16</td>\n",
       "      <td>Clear</td>\n",
       "      <td>2.28</td>\n",
       "      <td>1.0</td>\n",
       "      <td>2018</td>\n",
       "      <td>4</td>\n",
       "      <td>1</td>\n",
       "      <td>1</td>\n",
       "      <td>0.0</td>\n",
       "    </tr>\n",
       "    <tr>\n",
       "      <th>2</th>\n",
       "      <td>2018-04-01 02:00:00</td>\n",
       "      <td>48.38</td>\n",
       "      <td>Clear</td>\n",
       "      <td>1.34</td>\n",
       "      <td>1.0</td>\n",
       "      <td>2018</td>\n",
       "      <td>4</td>\n",
       "      <td>1</td>\n",
       "      <td>2</td>\n",
       "      <td>2.0</td>\n",
       "    </tr>\n",
       "    <tr>\n",
       "      <th>3</th>\n",
       "      <td>2018-04-01 02:00:00</td>\n",
       "      <td>51.37</td>\n",
       "      <td>Clear</td>\n",
       "      <td>1.68</td>\n",
       "      <td>1.0</td>\n",
       "      <td>2018</td>\n",
       "      <td>4</td>\n",
       "      <td>1</td>\n",
       "      <td>2</td>\n",
       "      <td>2.0</td>\n",
       "    </tr>\n",
       "    <tr>\n",
       "      <th>4</th>\n",
       "      <td>2018-04-01 03:00:00</td>\n",
       "      <td>53.91</td>\n",
       "      <td>Clear</td>\n",
       "      <td>2.96</td>\n",
       "      <td>1.0</td>\n",
       "      <td>2018</td>\n",
       "      <td>4</td>\n",
       "      <td>1</td>\n",
       "      <td>3</td>\n",
       "      <td>5.0</td>\n",
       "    </tr>\n",
       "  </tbody>\n",
       "</table>\n",
       "</div>"
      ],
      "text/plain": [
       "              datetime  apparentTemperature summary  windSpeed  DOLocationID  \\\n",
       "0  2018-04-01 00:00:00                40.42   Clear       3.27           1.0   \n",
       "1  2018-04-01 01:00:00                45.16   Clear       2.28           1.0   \n",
       "2  2018-04-01 02:00:00                48.38   Clear       1.34           1.0   \n",
       "3  2018-04-01 02:00:00                51.37   Clear       1.68           1.0   \n",
       "4  2018-04-01 03:00:00                53.91   Clear       2.96           1.0   \n",
       "\n",
       "   dropoff_year  dropoff_month  dropoff_day  dropoff_hour  Count  \n",
       "0          2018              4            1             0    0.0  \n",
       "1          2018              4            1             1    0.0  \n",
       "2          2018              4            1             2    2.0  \n",
       "3          2018              4            1             2    2.0  \n",
       "4          2018              4            1             3    5.0  "
      ]
     },
     "execution_count": 27,
     "metadata": {},
     "output_type": "execute_result"
    }
   ],
   "source": [
    "drop_frame.head()"
   ]
  },
  {
   "cell_type": "code",
   "execution_count": 26,
   "metadata": {},
   "outputs": [],
   "source": [
    "drop_frame.drop(columns=['Unnamed: 0'],inplace=True)"
   ]
  },
  {
   "cell_type": "code",
   "execution_count": 29,
   "metadata": {},
   "outputs": [
    {
     "name": "stdout",
     "output_type": "stream",
     "text": [
      "[ 4  8 12  2  1  7  6  3  5 11 10  9]\n",
      "12\n"
     ]
    }
   ],
   "source": [
    "print(drop_frame['dropoff_month'].unique())\n",
    "print(drop_frame['dropoff_month'].nunique())"
   ]
  },
  {
   "cell_type": "code",
   "execution_count": 30,
   "metadata": {},
   "outputs": [
    {
     "name": "stdout",
     "output_type": "stream",
     "text": [
      "[ 1  2  3  4  5  6  7  8  9 10 11 12 13 14 15 16 17 18 19 20 21 22 23 24\n",
      " 25 26 27 28 29 30 31]\n",
      "31\n"
     ]
    }
   ],
   "source": [
    "print(drop_frame['dropoff_day'].unique())\n",
    "print(drop_frame['dropoff_day'].nunique())"
   ]
  },
  {
   "cell_type": "code",
   "execution_count": 31,
   "metadata": {},
   "outputs": [
    {
     "name": "stdout",
     "output_type": "stream",
     "text": [
      "[ 0  1  2  3  4  5  6  7  8  9 10 11 12 13 14 15 16 17 18 19 20 21 22 23]\n",
      "24\n"
     ]
    }
   ],
   "source": [
    "print(drop_frame['dropoff_hour'].unique())\n",
    "print(drop_frame['dropoff_hour'].nunique())"
   ]
  },
  {
   "cell_type": "markdown",
   "metadata": {},
   "source": [
    "### Zone with the Max number of pickups "
   ]
  },
  {
   "cell_type": "code",
   "execution_count": 56,
   "metadata": {},
   "outputs": [],
   "source": [
    "# drop_frame.to_csv('C:/Users/Arinab/Desktop/DataScience/capstone/Processed-dataframe/complete_dropoff_2018.csv')"
   ]
  },
  {
   "cell_type": "code",
   "execution_count": 59,
   "metadata": {
    "scrolled": true
   },
   "outputs": [],
   "source": [
    "total_pickup_year=pd.DataFrame(pick_frame.groupby(['PULocationID'])['Count'].sum()).reset_index().sort_values(by='Count',ascending=False)"
   ]
  },
  {
   "cell_type": "code",
   "execution_count": 62,
   "metadata": {},
   "outputs": [
    {
     "data": {
      "text/html": [
       "<div>\n",
       "<style scoped>\n",
       "    .dataframe tbody tr th:only-of-type {\n",
       "        vertical-align: middle;\n",
       "    }\n",
       "\n",
       "    .dataframe tbody tr th {\n",
       "        vertical-align: top;\n",
       "    }\n",
       "\n",
       "    .dataframe thead th {\n",
       "        text-align: right;\n",
       "    }\n",
       "</style>\n",
       "<table border=\"1\" class=\"dataframe\">\n",
       "  <thead>\n",
       "    <tr style=\"text-align: right;\">\n",
       "      <th></th>\n",
       "      <th>PULocationID</th>\n",
       "      <th>Count</th>\n",
       "    </tr>\n",
       "  </thead>\n",
       "  <tbody>\n",
       "    <tr>\n",
       "      <th>236</th>\n",
       "      <td>237.0</td>\n",
       "      <td>4235975.0</td>\n",
       "    </tr>\n",
       "    <tr>\n",
       "      <th>160</th>\n",
       "      <td>161.0</td>\n",
       "      <td>3919941.0</td>\n",
       "    </tr>\n",
       "    <tr>\n",
       "      <th>235</th>\n",
       "      <td>236.0</td>\n",
       "      <td>3843504.0</td>\n",
       "    </tr>\n",
       "    <tr>\n",
       "      <th>161</th>\n",
       "      <td>162.0</td>\n",
       "      <td>3583091.0</td>\n",
       "    </tr>\n",
       "    <tr>\n",
       "      <th>185</th>\n",
       "      <td>186.0</td>\n",
       "      <td>3462358.0</td>\n",
       "    </tr>\n",
       "  </tbody>\n",
       "</table>\n",
       "</div>"
      ],
      "text/plain": [
       "     PULocationID      Count\n",
       "236         237.0  4235975.0\n",
       "160         161.0  3919941.0\n",
       "235         236.0  3843504.0\n",
       "161         162.0  3583091.0\n",
       "185         186.0  3462358.0"
      ]
     },
     "execution_count": 62,
     "metadata": {},
     "output_type": "execute_result"
    }
   ],
   "source": [
    "pd.DataFrame(pick_frame.groupby(['PULocationID'])['Count'].sum()).reset_index().sort_values(by='Count',ascending=False).head()"
   ]
  },
  {
   "cell_type": "markdown",
   "metadata": {},
   "source": [
    "### Zone with the Max number of dropoff "
   ]
  },
  {
   "cell_type": "code",
   "execution_count": 57,
   "metadata": {},
   "outputs": [
    {
     "data": {
      "text/html": [
       "<div>\n",
       "<style scoped>\n",
       "    .dataframe tbody tr th:only-of-type {\n",
       "        vertical-align: middle;\n",
       "    }\n",
       "\n",
       "    .dataframe tbody tr th {\n",
       "        vertical-align: top;\n",
       "    }\n",
       "\n",
       "    .dataframe thead th {\n",
       "        text-align: right;\n",
       "    }\n",
       "</style>\n",
       "<table border=\"1\" class=\"dataframe\">\n",
       "  <thead>\n",
       "    <tr style=\"text-align: right;\">\n",
       "      <th></th>\n",
       "      <th>DOLocationID</th>\n",
       "      <th>Count</th>\n",
       "    </tr>\n",
       "  </thead>\n",
       "  <tbody>\n",
       "    <tr>\n",
       "      <th>235</th>\n",
       "      <td>236.0</td>\n",
       "      <td>3955820.0</td>\n",
       "    </tr>\n",
       "    <tr>\n",
       "      <th>160</th>\n",
       "      <td>161.0</td>\n",
       "      <td>3870763.0</td>\n",
       "    </tr>\n",
       "    <tr>\n",
       "      <th>236</th>\n",
       "      <td>237.0</td>\n",
       "      <td>3697608.0</td>\n",
       "    </tr>\n",
       "    <tr>\n",
       "      <th>169</th>\n",
       "      <td>170.0</td>\n",
       "      <td>3253825.0</td>\n",
       "    </tr>\n",
       "    <tr>\n",
       "      <th>229</th>\n",
       "      <td>230.0</td>\n",
       "      <td>3144267.0</td>\n",
       "    </tr>\n",
       "    <tr>\n",
       "      <th>161</th>\n",
       "      <td>162.0</td>\n",
       "      <td>3131831.0</td>\n",
       "    </tr>\n",
       "    <tr>\n",
       "      <th>47</th>\n",
       "      <td>48.0</td>\n",
       "      <td>2783284.0</td>\n",
       "    </tr>\n",
       "    <tr>\n",
       "      <th>233</th>\n",
       "      <td>234.0</td>\n",
       "      <td>2751982.0</td>\n",
       "    </tr>\n",
       "    <tr>\n",
       "      <th>141</th>\n",
       "      <td>142.0</td>\n",
       "      <td>2728885.0</td>\n",
       "    </tr>\n",
       "    <tr>\n",
       "      <th>185</th>\n",
       "      <td>186.0</td>\n",
       "      <td>2668357.0</td>\n",
       "    </tr>\n",
       "  </tbody>\n",
       "</table>\n",
       "</div>"
      ],
      "text/plain": [
       "     DOLocationID      Count\n",
       "235         236.0  3955820.0\n",
       "160         161.0  3870763.0\n",
       "236         237.0  3697608.0\n",
       "169         170.0  3253825.0\n",
       "229         230.0  3144267.0\n",
       "161         162.0  3131831.0\n",
       "47           48.0  2783284.0\n",
       "233         234.0  2751982.0\n",
       "141         142.0  2728885.0\n",
       "185         186.0  2668357.0"
      ]
     },
     "execution_count": 57,
     "metadata": {},
     "output_type": "execute_result"
    }
   ],
   "source": [
    "pd.DataFrame(drop_frame.groupby(['DOLocationID'])['Count'].sum()).reset_index().sort_values(by='Count',ascending=False).head(10)"
   ]
  }
 ],
 "metadata": {
  "kernelspec": {
   "display_name": "Python 3",
   "language": "python",
   "name": "python3"
  },
  "language_info": {
   "codemirror_mode": {
    "name": "ipython",
    "version": 3
   },
   "file_extension": ".py",
   "mimetype": "text/x-python",
   "name": "python",
   "nbconvert_exporter": "python",
   "pygments_lexer": "ipython3",
   "version": "3.5.3"
  }
 },
 "nbformat": 4,
 "nbformat_minor": 4
}
