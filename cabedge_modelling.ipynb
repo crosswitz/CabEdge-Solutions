{
 "cells": [
  {
   "cell_type": "markdown",
   "metadata": {},
   "source": [
    "# Project : CabEdge"
   ]
  },
  {
   "cell_type": "markdown",
   "metadata": {},
   "source": [
    "## This are different Modelling Techniques used for this project"
   ]
  },
  {
   "cell_type": "code",
   "execution_count": 103,
   "metadata": {},
   "outputs": [],
   "source": [
    "import pandas as pd\n",
    "import numpy as np\n",
    "\n",
    "import seaborn as sns\n",
    "import matplotlib.pyplot as plt\n",
    "import warnings\n"
   ]
  },
  {
   "cell_type": "code",
   "execution_count": 104,
   "metadata": {},
   "outputs": [],
   "source": [
    "warnings.simplefilter('always')"
   ]
  },
  {
   "cell_type": "code",
   "execution_count": 105,
   "metadata": {},
   "outputs": [],
   "source": [
    "from fbprophet import Prophet"
   ]
  },
  {
   "cell_type": "code",
   "execution_count": 106,
   "metadata": {},
   "outputs": [],
   "source": [
    "from fbprophet.diagnostics import cross_validation"
   ]
  },
  {
   "cell_type": "code",
   "execution_count": 112,
   "metadata": {},
   "outputs": [],
   "source": [
    "df = pd.read_csv('/home/jupyter/capstone/database/complete_pickup_2018.csv')"
   ]
  },
  {
   "cell_type": "code",
   "execution_count": 113,
   "metadata": {},
   "outputs": [],
   "source": [
    "# plt.figure(figsize=(12,12))\n",
    "# sns.scatterplot(x='datetime',y='Count',data=df[df['PULocationID'] == 103])"
   ]
  },
  {
   "cell_type": "code",
   "execution_count": 114,
   "metadata": {},
   "outputs": [
    {
     "data": {
      "text/html": [
       "<div>\n",
       "<style scoped>\n",
       "    .dataframe tbody tr th:only-of-type {\n",
       "        vertical-align: middle;\n",
       "    }\n",
       "\n",
       "    .dataframe tbody tr th {\n",
       "        vertical-align: top;\n",
       "    }\n",
       "\n",
       "    .dataframe thead th {\n",
       "        text-align: right;\n",
       "    }\n",
       "</style>\n",
       "<table border=\"1\" class=\"dataframe\">\n",
       "  <thead>\n",
       "    <tr style=\"text-align: right;\">\n",
       "      <th></th>\n",
       "      <th>Unnamed: 0</th>\n",
       "      <th>datetime</th>\n",
       "      <th>apparentTemperature</th>\n",
       "      <th>summary</th>\n",
       "      <th>windSpeed</th>\n",
       "      <th>PULocationID</th>\n",
       "      <th>pickup_year</th>\n",
       "      <th>pickup_month</th>\n",
       "      <th>pickup_day</th>\n",
       "      <th>pickup_hour</th>\n",
       "      <th>Count</th>\n",
       "    </tr>\n",
       "  </thead>\n",
       "  <tbody>\n",
       "    <tr>\n",
       "      <th>0</th>\n",
       "      <td>0</td>\n",
       "      <td>2018-04-01 00:00:00</td>\n",
       "      <td>40.42</td>\n",
       "      <td>Clear</td>\n",
       "      <td>3.27</td>\n",
       "      <td>1.0</td>\n",
       "      <td>2018</td>\n",
       "      <td>4</td>\n",
       "      <td>1</td>\n",
       "      <td>0</td>\n",
       "      <td>0.0</td>\n",
       "    </tr>\n",
       "    <tr>\n",
       "      <th>1</th>\n",
       "      <td>1</td>\n",
       "      <td>2018-04-01 01:00:00</td>\n",
       "      <td>45.16</td>\n",
       "      <td>Clear</td>\n",
       "      <td>2.28</td>\n",
       "      <td>1.0</td>\n",
       "      <td>2018</td>\n",
       "      <td>4</td>\n",
       "      <td>1</td>\n",
       "      <td>1</td>\n",
       "      <td>0.0</td>\n",
       "    </tr>\n",
       "    <tr>\n",
       "      <th>2</th>\n",
       "      <td>2</td>\n",
       "      <td>2018-04-01 02:00:00</td>\n",
       "      <td>48.38</td>\n",
       "      <td>Clear</td>\n",
       "      <td>1.34</td>\n",
       "      <td>1.0</td>\n",
       "      <td>2018</td>\n",
       "      <td>4</td>\n",
       "      <td>1</td>\n",
       "      <td>2</td>\n",
       "      <td>0.0</td>\n",
       "    </tr>\n",
       "    <tr>\n",
       "      <th>3</th>\n",
       "      <td>3</td>\n",
       "      <td>2018-04-01 02:00:00</td>\n",
       "      <td>51.37</td>\n",
       "      <td>Clear</td>\n",
       "      <td>1.68</td>\n",
       "      <td>1.0</td>\n",
       "      <td>2018</td>\n",
       "      <td>4</td>\n",
       "      <td>1</td>\n",
       "      <td>2</td>\n",
       "      <td>0.0</td>\n",
       "    </tr>\n",
       "    <tr>\n",
       "      <th>4</th>\n",
       "      <td>4</td>\n",
       "      <td>2018-04-01 03:00:00</td>\n",
       "      <td>53.91</td>\n",
       "      <td>Clear</td>\n",
       "      <td>2.96</td>\n",
       "      <td>1.0</td>\n",
       "      <td>2018</td>\n",
       "      <td>4</td>\n",
       "      <td>1</td>\n",
       "      <td>3</td>\n",
       "      <td>0.0</td>\n",
       "    </tr>\n",
       "  </tbody>\n",
       "</table>\n",
       "</div>"
      ],
      "text/plain": [
       "   Unnamed: 0             datetime  apparentTemperature summary  windSpeed  \\\n",
       "0           0  2018-04-01 00:00:00                40.42   Clear       3.27   \n",
       "1           1  2018-04-01 01:00:00                45.16   Clear       2.28   \n",
       "2           2  2018-04-01 02:00:00                48.38   Clear       1.34   \n",
       "3           3  2018-04-01 02:00:00                51.37   Clear       1.68   \n",
       "4           4  2018-04-01 03:00:00                53.91   Clear       2.96   \n",
       "\n",
       "   PULocationID  pickup_year  pickup_month  pickup_day  pickup_hour  Count  \n",
       "0           1.0         2018             4           1            0    0.0  \n",
       "1           1.0         2018             4           1            1    0.0  \n",
       "2           1.0         2018             4           1            2    0.0  \n",
       "3           1.0         2018             4           1            2    0.0  \n",
       "4           1.0         2018             4           1            3    0.0  "
      ]
     },
     "execution_count": 114,
     "metadata": {},
     "output_type": "execute_result"
    }
   ],
   "source": [
    "df.head()"
   ]
  },
  {
   "cell_type": "code",
   "execution_count": 115,
   "metadata": {},
   "outputs": [],
   "source": [
    "df.drop(columns=['Unnamed: 0','summary'],inplace=True)"
   ]
  },
  {
   "cell_type": "code",
   "execution_count": 116,
   "metadata": {},
   "outputs": [
    {
     "data": {
      "text/html": [
       "<div>\n",
       "<style scoped>\n",
       "    .dataframe tbody tr th:only-of-type {\n",
       "        vertical-align: middle;\n",
       "    }\n",
       "\n",
       "    .dataframe tbody tr th {\n",
       "        vertical-align: top;\n",
       "    }\n",
       "\n",
       "    .dataframe thead th {\n",
       "        text-align: right;\n",
       "    }\n",
       "</style>\n",
       "<table border=\"1\" class=\"dataframe\">\n",
       "  <thead>\n",
       "    <tr style=\"text-align: right;\">\n",
       "      <th></th>\n",
       "      <th>datetime</th>\n",
       "      <th>apparentTemperature</th>\n",
       "      <th>windSpeed</th>\n",
       "      <th>PULocationID</th>\n",
       "      <th>pickup_year</th>\n",
       "      <th>pickup_month</th>\n",
       "      <th>pickup_day</th>\n",
       "      <th>pickup_hour</th>\n",
       "      <th>Count</th>\n",
       "    </tr>\n",
       "  </thead>\n",
       "  <tbody>\n",
       "    <tr>\n",
       "      <th>0</th>\n",
       "      <td>2018-04-01 00:00:00</td>\n",
       "      <td>40.42</td>\n",
       "      <td>3.27</td>\n",
       "      <td>1.0</td>\n",
       "      <td>2018</td>\n",
       "      <td>4</td>\n",
       "      <td>1</td>\n",
       "      <td>0</td>\n",
       "      <td>0.0</td>\n",
       "    </tr>\n",
       "    <tr>\n",
       "      <th>1</th>\n",
       "      <td>2018-04-01 01:00:00</td>\n",
       "      <td>45.16</td>\n",
       "      <td>2.28</td>\n",
       "      <td>1.0</td>\n",
       "      <td>2018</td>\n",
       "      <td>4</td>\n",
       "      <td>1</td>\n",
       "      <td>1</td>\n",
       "      <td>0.0</td>\n",
       "    </tr>\n",
       "    <tr>\n",
       "      <th>2</th>\n",
       "      <td>2018-04-01 02:00:00</td>\n",
       "      <td>48.38</td>\n",
       "      <td>1.34</td>\n",
       "      <td>1.0</td>\n",
       "      <td>2018</td>\n",
       "      <td>4</td>\n",
       "      <td>1</td>\n",
       "      <td>2</td>\n",
       "      <td>0.0</td>\n",
       "    </tr>\n",
       "    <tr>\n",
       "      <th>3</th>\n",
       "      <td>2018-04-01 02:00:00</td>\n",
       "      <td>51.37</td>\n",
       "      <td>1.68</td>\n",
       "      <td>1.0</td>\n",
       "      <td>2018</td>\n",
       "      <td>4</td>\n",
       "      <td>1</td>\n",
       "      <td>2</td>\n",
       "      <td>0.0</td>\n",
       "    </tr>\n",
       "    <tr>\n",
       "      <th>4</th>\n",
       "      <td>2018-04-01 03:00:00</td>\n",
       "      <td>53.91</td>\n",
       "      <td>2.96</td>\n",
       "      <td>1.0</td>\n",
       "      <td>2018</td>\n",
       "      <td>4</td>\n",
       "      <td>1</td>\n",
       "      <td>3</td>\n",
       "      <td>0.0</td>\n",
       "    </tr>\n",
       "  </tbody>\n",
       "</table>\n",
       "</div>"
      ],
      "text/plain": [
       "              datetime  apparentTemperature  windSpeed  PULocationID  \\\n",
       "0  2018-04-01 00:00:00                40.42       3.27           1.0   \n",
       "1  2018-04-01 01:00:00                45.16       2.28           1.0   \n",
       "2  2018-04-01 02:00:00                48.38       1.34           1.0   \n",
       "3  2018-04-01 02:00:00                51.37       1.68           1.0   \n",
       "4  2018-04-01 03:00:00                53.91       2.96           1.0   \n",
       "\n",
       "   pickup_year  pickup_month  pickup_day  pickup_hour  Count  \n",
       "0         2018             4           1            0    0.0  \n",
       "1         2018             4           1            1    0.0  \n",
       "2         2018             4           1            2    0.0  \n",
       "3         2018             4           1            2    0.0  \n",
       "4         2018             4           1            3    0.0  "
      ]
     },
     "execution_count": 116,
     "metadata": {},
     "output_type": "execute_result"
    }
   ],
   "source": [
    "df.head()"
   ]
  },
  {
   "cell_type": "code",
   "execution_count": 117,
   "metadata": {},
   "outputs": [
    {
     "data": {
      "text/html": [
       "<div>\n",
       "<style scoped>\n",
       "    .dataframe tbody tr th:only-of-type {\n",
       "        vertical-align: middle;\n",
       "    }\n",
       "\n",
       "    .dataframe tbody tr th {\n",
       "        vertical-align: top;\n",
       "    }\n",
       "\n",
       "    .dataframe thead th {\n",
       "        text-align: right;\n",
       "    }\n",
       "</style>\n",
       "<table border=\"1\" class=\"dataframe\">\n",
       "  <thead>\n",
       "    <tr style=\"text-align: right;\">\n",
       "      <th></th>\n",
       "      <th>datetime</th>\n",
       "      <th>apparentTemperature</th>\n",
       "      <th>windSpeed</th>\n",
       "      <th>PULocationID</th>\n",
       "      <th>pickup_year</th>\n",
       "      <th>pickup_month</th>\n",
       "      <th>pickup_day</th>\n",
       "      <th>pickup_hour</th>\n",
       "      <th>Count</th>\n",
       "    </tr>\n",
       "  </thead>\n",
       "  <tbody>\n",
       "    <tr>\n",
       "      <th>2303875</th>\n",
       "      <td>2018-09-30 19:00:00</td>\n",
       "      <td>54.16</td>\n",
       "      <td>4.43</td>\n",
       "      <td>263.0</td>\n",
       "      <td>2018</td>\n",
       "      <td>9</td>\n",
       "      <td>30</td>\n",
       "      <td>19</td>\n",
       "      <td>279.0</td>\n",
       "    </tr>\n",
       "    <tr>\n",
       "      <th>2303876</th>\n",
       "      <td>2018-09-30 20:00:00</td>\n",
       "      <td>53.53</td>\n",
       "      <td>5.02</td>\n",
       "      <td>263.0</td>\n",
       "      <td>2018</td>\n",
       "      <td>9</td>\n",
       "      <td>30</td>\n",
       "      <td>20</td>\n",
       "      <td>208.0</td>\n",
       "    </tr>\n",
       "    <tr>\n",
       "      <th>2303877</th>\n",
       "      <td>2018-09-30 21:00:00</td>\n",
       "      <td>52.96</td>\n",
       "      <td>4.77</td>\n",
       "      <td>263.0</td>\n",
       "      <td>2018</td>\n",
       "      <td>9</td>\n",
       "      <td>30</td>\n",
       "      <td>21</td>\n",
       "      <td>171.0</td>\n",
       "    </tr>\n",
       "    <tr>\n",
       "      <th>2303878</th>\n",
       "      <td>2018-09-30 22:00:00</td>\n",
       "      <td>55.63</td>\n",
       "      <td>5.04</td>\n",
       "      <td>263.0</td>\n",
       "      <td>2018</td>\n",
       "      <td>9</td>\n",
       "      <td>30</td>\n",
       "      <td>22</td>\n",
       "      <td>135.0</td>\n",
       "    </tr>\n",
       "    <tr>\n",
       "      <th>2303879</th>\n",
       "      <td>2018-09-30 23:00:00</td>\n",
       "      <td>57.95</td>\n",
       "      <td>5.36</td>\n",
       "      <td>263.0</td>\n",
       "      <td>2018</td>\n",
       "      <td>9</td>\n",
       "      <td>30</td>\n",
       "      <td>23</td>\n",
       "      <td>65.0</td>\n",
       "    </tr>\n",
       "  </tbody>\n",
       "</table>\n",
       "</div>"
      ],
      "text/plain": [
       "                    datetime  apparentTemperature  windSpeed  PULocationID  \\\n",
       "2303875  2018-09-30 19:00:00                54.16       4.43         263.0   \n",
       "2303876  2018-09-30 20:00:00                53.53       5.02         263.0   \n",
       "2303877  2018-09-30 21:00:00                52.96       4.77         263.0   \n",
       "2303878  2018-09-30 22:00:00                55.63       5.04         263.0   \n",
       "2303879  2018-09-30 23:00:00                57.95       5.36         263.0   \n",
       "\n",
       "         pickup_year  pickup_month  pickup_day  pickup_hour  Count  \n",
       "2303875         2018             9          30           19  279.0  \n",
       "2303876         2018             9          30           20  208.0  \n",
       "2303877         2018             9          30           21  171.0  \n",
       "2303878         2018             9          30           22  135.0  \n",
       "2303879         2018             9          30           23   65.0  "
      ]
     },
     "execution_count": 117,
     "metadata": {},
     "output_type": "execute_result"
    }
   ],
   "source": [
    "df.tail()"
   ]
  },
  {
   "cell_type": "code",
   "execution_count": 32,
   "metadata": {},
   "outputs": [
    {
     "name": "stdout",
     "output_type": "stream",
     "text": [
      "[[ 1.         -0.04458843]\n",
      " [-0.04458843  1.        ]]\n"
     ]
    }
   ],
   "source": [
    "print(np.corrcoef(x=df['windSpeed'],y=df['Count']))"
   ]
  },
  {
   "cell_type": "code",
   "execution_count": 33,
   "metadata": {},
   "outputs": [
    {
     "name": "stdout",
     "output_type": "stream",
     "text": [
      "[[ 1.        -0.0257121]\n",
      " [-0.0257121  1.       ]]\n"
     ]
    }
   ],
   "source": [
    "print(np.corrcoef(x=df['apparentTemperature'],y=df['Count']))"
   ]
  },
  {
   "cell_type": "code",
   "execution_count": 34,
   "metadata": {},
   "outputs": [],
   "source": [
    "df.rename(columns={'datetime':'ds','Count' : 'y'},inplace=True)"
   ]
  },
  {
   "cell_type": "code",
   "execution_count": 35,
   "metadata": {},
   "outputs": [
    {
     "data": {
      "text/html": [
       "<div>\n",
       "<style scoped>\n",
       "    .dataframe tbody tr th:only-of-type {\n",
       "        vertical-align: middle;\n",
       "    }\n",
       "\n",
       "    .dataframe tbody tr th {\n",
       "        vertical-align: top;\n",
       "    }\n",
       "\n",
       "    .dataframe thead th {\n",
       "        text-align: right;\n",
       "    }\n",
       "</style>\n",
       "<table border=\"1\" class=\"dataframe\">\n",
       "  <thead>\n",
       "    <tr style=\"text-align: right;\">\n",
       "      <th></th>\n",
       "      <th>Unnamed: 0</th>\n",
       "      <th>ds</th>\n",
       "      <th>apparentTemperature</th>\n",
       "      <th>summary</th>\n",
       "      <th>windSpeed</th>\n",
       "      <th>PULocationID</th>\n",
       "      <th>pickup_year</th>\n",
       "      <th>pickup_month</th>\n",
       "      <th>pickup_day</th>\n",
       "      <th>pickup_hour</th>\n",
       "      <th>y</th>\n",
       "    </tr>\n",
       "  </thead>\n",
       "  <tbody>\n",
       "    <tr>\n",
       "      <th>0</th>\n",
       "      <td>0</td>\n",
       "      <td>2018-04-01 00:00:00</td>\n",
       "      <td>40.42</td>\n",
       "      <td>Clear</td>\n",
       "      <td>3.27</td>\n",
       "      <td>1.0</td>\n",
       "      <td>2018</td>\n",
       "      <td>4</td>\n",
       "      <td>1</td>\n",
       "      <td>0</td>\n",
       "      <td>0.0</td>\n",
       "    </tr>\n",
       "    <tr>\n",
       "      <th>1</th>\n",
       "      <td>1</td>\n",
       "      <td>2018-04-01 01:00:00</td>\n",
       "      <td>45.16</td>\n",
       "      <td>Clear</td>\n",
       "      <td>2.28</td>\n",
       "      <td>1.0</td>\n",
       "      <td>2018</td>\n",
       "      <td>4</td>\n",
       "      <td>1</td>\n",
       "      <td>1</td>\n",
       "      <td>0.0</td>\n",
       "    </tr>\n",
       "    <tr>\n",
       "      <th>2</th>\n",
       "      <td>2</td>\n",
       "      <td>2018-04-01 02:00:00</td>\n",
       "      <td>48.38</td>\n",
       "      <td>Clear</td>\n",
       "      <td>1.34</td>\n",
       "      <td>1.0</td>\n",
       "      <td>2018</td>\n",
       "      <td>4</td>\n",
       "      <td>1</td>\n",
       "      <td>2</td>\n",
       "      <td>0.0</td>\n",
       "    </tr>\n",
       "    <tr>\n",
       "      <th>3</th>\n",
       "      <td>3</td>\n",
       "      <td>2018-04-01 02:00:00</td>\n",
       "      <td>51.37</td>\n",
       "      <td>Clear</td>\n",
       "      <td>1.68</td>\n",
       "      <td>1.0</td>\n",
       "      <td>2018</td>\n",
       "      <td>4</td>\n",
       "      <td>1</td>\n",
       "      <td>2</td>\n",
       "      <td>0.0</td>\n",
       "    </tr>\n",
       "    <tr>\n",
       "      <th>4</th>\n",
       "      <td>4</td>\n",
       "      <td>2018-04-01 03:00:00</td>\n",
       "      <td>53.91</td>\n",
       "      <td>Clear</td>\n",
       "      <td>2.96</td>\n",
       "      <td>1.0</td>\n",
       "      <td>2018</td>\n",
       "      <td>4</td>\n",
       "      <td>1</td>\n",
       "      <td>3</td>\n",
       "      <td>0.0</td>\n",
       "    </tr>\n",
       "  </tbody>\n",
       "</table>\n",
       "</div>"
      ],
      "text/plain": [
       "   Unnamed: 0                   ds  apparentTemperature summary  windSpeed  \\\n",
       "0           0  2018-04-01 00:00:00                40.42   Clear       3.27   \n",
       "1           1  2018-04-01 01:00:00                45.16   Clear       2.28   \n",
       "2           2  2018-04-01 02:00:00                48.38   Clear       1.34   \n",
       "3           3  2018-04-01 02:00:00                51.37   Clear       1.68   \n",
       "4           4  2018-04-01 03:00:00                53.91   Clear       2.96   \n",
       "\n",
       "   PULocationID  pickup_year  pickup_month  pickup_day  pickup_hour    y  \n",
       "0           1.0         2018             4           1            0  0.0  \n",
       "1           1.0         2018             4           1            1  0.0  \n",
       "2           1.0         2018             4           1            2  0.0  \n",
       "3           1.0         2018             4           1            2  0.0  \n",
       "4           1.0         2018             4           1            3  0.0  "
      ]
     },
     "execution_count": 35,
     "metadata": {},
     "output_type": "execute_result"
    }
   ],
   "source": [
    "df.head()"
   ]
  },
  {
   "cell_type": "code",
   "execution_count": 36,
   "metadata": {},
   "outputs": [],
   "source": [
    "specific_location = df[df['PULocationID'] == 103]"
   ]
  },
  {
   "cell_type": "code",
   "execution_count": 37,
   "metadata": {},
   "outputs": [],
   "source": [
    "specific_location = specific_location[['ds','apparentTemperature','windSpeed','y']]"
   ]
  },
  {
   "cell_type": "code",
   "execution_count": 38,
   "metadata": {},
   "outputs": [],
   "source": [
    "specific_location['ds'] = pd.to_datetime(specific_location['ds'])"
   ]
  },
  {
   "cell_type": "code",
   "execution_count": 39,
   "metadata": {},
   "outputs": [],
   "source": [
    "specific_location=specific_location.sort_values(by='ds')"
   ]
  },
  {
   "cell_type": "code",
   "execution_count": 40,
   "metadata": {},
   "outputs": [
    {
     "data": {
      "text/html": [
       "<div>\n",
       "<style scoped>\n",
       "    .dataframe tbody tr th:only-of-type {\n",
       "        vertical-align: middle;\n",
       "    }\n",
       "\n",
       "    .dataframe tbody tr th {\n",
       "        vertical-align: top;\n",
       "    }\n",
       "\n",
       "    .dataframe thead th {\n",
       "        text-align: right;\n",
       "    }\n",
       "</style>\n",
       "<table border=\"1\" class=\"dataframe\">\n",
       "  <thead>\n",
       "    <tr style=\"text-align: right;\">\n",
       "      <th></th>\n",
       "      <th>ds</th>\n",
       "      <th>apparentTemperature</th>\n",
       "      <th>windSpeed</th>\n",
       "      <th>y</th>\n",
       "    </tr>\n",
       "  </thead>\n",
       "  <tbody>\n",
       "    <tr>\n",
       "      <th>833591</th>\n",
       "      <td>2018-01-01 00:00:00</td>\n",
       "      <td>1.54</td>\n",
       "      <td>7.83</td>\n",
       "      <td>0.0</td>\n",
       "    </tr>\n",
       "    <tr>\n",
       "      <th>833592</th>\n",
       "      <td>2018-01-01 01:00:00</td>\n",
       "      <td>3.08</td>\n",
       "      <td>6.69</td>\n",
       "      <td>0.0</td>\n",
       "    </tr>\n",
       "    <tr>\n",
       "      <th>833593</th>\n",
       "      <td>2018-01-01 02:00:00</td>\n",
       "      <td>1.97</td>\n",
       "      <td>8.10</td>\n",
       "      <td>0.0</td>\n",
       "    </tr>\n",
       "    <tr>\n",
       "      <th>833594</th>\n",
       "      <td>2018-01-01 03:00:00</td>\n",
       "      <td>3.26</td>\n",
       "      <td>7.96</td>\n",
       "      <td>0.0</td>\n",
       "    </tr>\n",
       "    <tr>\n",
       "      <th>833595</th>\n",
       "      <td>2018-01-01 04:00:00</td>\n",
       "      <td>6.69</td>\n",
       "      <td>5.10</td>\n",
       "      <td>0.0</td>\n",
       "    </tr>\n",
       "  </tbody>\n",
       "</table>\n",
       "</div>"
      ],
      "text/plain": [
       "                        ds  apparentTemperature  windSpeed    y\n",
       "833591 2018-01-01 00:00:00                 1.54       7.83  0.0\n",
       "833592 2018-01-01 01:00:00                 3.08       6.69  0.0\n",
       "833593 2018-01-01 02:00:00                 1.97       8.10  0.0\n",
       "833594 2018-01-01 03:00:00                 3.26       7.96  0.0\n",
       "833595 2018-01-01 04:00:00                 6.69       5.10  0.0"
      ]
     },
     "execution_count": 40,
     "metadata": {},
     "output_type": "execute_result"
    }
   ],
   "source": [
    "specific_location.head()"
   ]
  },
  {
   "cell_type": "code",
   "execution_count": 41,
   "metadata": {},
   "outputs": [
    {
     "data": {
      "text/plain": [
       "ds                     datetime64[ns]\n",
       "apparentTemperature           float64\n",
       "windSpeed                     float64\n",
       "y                             float64\n",
       "dtype: object"
      ]
     },
     "execution_count": 41,
     "metadata": {},
     "output_type": "execute_result"
    }
   ],
   "source": [
    "specific_location.dtypes"
   ]
  },
  {
   "cell_type": "code",
   "execution_count": 42,
   "metadata": {},
   "outputs": [
    {
     "data": {
      "text/html": [
       "<div>\n",
       "<style scoped>\n",
       "    .dataframe tbody tr th:only-of-type {\n",
       "        vertical-align: middle;\n",
       "    }\n",
       "\n",
       "    .dataframe tbody tr th {\n",
       "        vertical-align: top;\n",
       "    }\n",
       "\n",
       "    .dataframe thead th {\n",
       "        text-align: right;\n",
       "    }\n",
       "</style>\n",
       "<table border=\"1\" class=\"dataframe\">\n",
       "  <thead>\n",
       "    <tr style=\"text-align: right;\">\n",
       "      <th></th>\n",
       "      <th>ds</th>\n",
       "      <th>apparentTemperature</th>\n",
       "      <th>windSpeed</th>\n",
       "      <th>y</th>\n",
       "    </tr>\n",
       "  </thead>\n",
       "  <tbody>\n",
       "    <tr>\n",
       "      <th>461922</th>\n",
       "      <td>2018-12-31 19:00:00</td>\n",
       "      <td>31.17</td>\n",
       "      <td>1.53</td>\n",
       "      <td>0.0</td>\n",
       "    </tr>\n",
       "    <tr>\n",
       "      <th>461923</th>\n",
       "      <td>2018-12-31 20:00:00</td>\n",
       "      <td>31.69</td>\n",
       "      <td>1.54</td>\n",
       "      <td>0.0</td>\n",
       "    </tr>\n",
       "    <tr>\n",
       "      <th>461924</th>\n",
       "      <td>2018-12-31 21:00:00</td>\n",
       "      <td>31.59</td>\n",
       "      <td>1.54</td>\n",
       "      <td>0.0</td>\n",
       "    </tr>\n",
       "    <tr>\n",
       "      <th>461925</th>\n",
       "      <td>2018-12-31 22:00:00</td>\n",
       "      <td>31.23</td>\n",
       "      <td>1.40</td>\n",
       "      <td>0.0</td>\n",
       "    </tr>\n",
       "    <tr>\n",
       "      <th>461926</th>\n",
       "      <td>2018-12-31 23:00:00</td>\n",
       "      <td>32.56</td>\n",
       "      <td>1.65</td>\n",
       "      <td>0.0</td>\n",
       "    </tr>\n",
       "  </tbody>\n",
       "</table>\n",
       "</div>"
      ],
      "text/plain": [
       "                        ds  apparentTemperature  windSpeed    y\n",
       "461922 2018-12-31 19:00:00                31.17       1.53  0.0\n",
       "461923 2018-12-31 20:00:00                31.69       1.54  0.0\n",
       "461924 2018-12-31 21:00:00                31.59       1.54  0.0\n",
       "461925 2018-12-31 22:00:00                31.23       1.40  0.0\n",
       "461926 2018-12-31 23:00:00                32.56       1.65  0.0"
      ]
     },
     "execution_count": 42,
     "metadata": {},
     "output_type": "execute_result"
    }
   ],
   "source": [
    "specific_location.tail()"
   ]
  },
  {
   "cell_type": "code",
   "execution_count": 47,
   "metadata": {},
   "outputs": [],
   "source": [
    "specific_location['cap']= specific_location['y'].max()\n",
    "specific_location['floor'] = 0"
   ]
  },
  {
   "cell_type": "code",
   "execution_count": 48,
   "metadata": {},
   "outputs": [
    {
     "data": {
      "text/plain": [
       "Index(['ds', 'apparentTemperature', 'windSpeed', 'y', 'cap', 'floor'], dtype='object')"
      ]
     },
     "execution_count": 48,
     "metadata": {},
     "output_type": "execute_result"
    }
   ],
   "source": [
    "specific_location.columns"
   ]
  },
  {
   "cell_type": "code",
   "execution_count": 49,
   "metadata": {},
   "outputs": [],
   "source": [
    "future = specific_location[['ds', 'apparentTemperature', 'windSpeed','cap','floor']]"
   ]
  },
  {
   "cell_type": "code",
   "execution_count": 50,
   "metadata": {
    "scrolled": true
   },
   "outputs": [
    {
     "data": {
      "text/html": [
       "<div>\n",
       "<style scoped>\n",
       "    .dataframe tbody tr th:only-of-type {\n",
       "        vertical-align: middle;\n",
       "    }\n",
       "\n",
       "    .dataframe tbody tr th {\n",
       "        vertical-align: top;\n",
       "    }\n",
       "\n",
       "    .dataframe thead th {\n",
       "        text-align: right;\n",
       "    }\n",
       "</style>\n",
       "<table border=\"1\" class=\"dataframe\">\n",
       "  <thead>\n",
       "    <tr style=\"text-align: right;\">\n",
       "      <th></th>\n",
       "      <th>ds</th>\n",
       "      <th>apparentTemperature</th>\n",
       "      <th>windSpeed</th>\n",
       "      <th>cap</th>\n",
       "      <th>floor</th>\n",
       "    </tr>\n",
       "  </thead>\n",
       "  <tbody>\n",
       "    <tr>\n",
       "      <th>833591</th>\n",
       "      <td>2018-01-01 00:00:00</td>\n",
       "      <td>1.54</td>\n",
       "      <td>7.83</td>\n",
       "      <td>0.0</td>\n",
       "      <td>0</td>\n",
       "    </tr>\n",
       "    <tr>\n",
       "      <th>833592</th>\n",
       "      <td>2018-01-01 01:00:00</td>\n",
       "      <td>3.08</td>\n",
       "      <td>6.69</td>\n",
       "      <td>0.0</td>\n",
       "      <td>0</td>\n",
       "    </tr>\n",
       "    <tr>\n",
       "      <th>833593</th>\n",
       "      <td>2018-01-01 02:00:00</td>\n",
       "      <td>1.97</td>\n",
       "      <td>8.10</td>\n",
       "      <td>0.0</td>\n",
       "      <td>0</td>\n",
       "    </tr>\n",
       "    <tr>\n",
       "      <th>833594</th>\n",
       "      <td>2018-01-01 03:00:00</td>\n",
       "      <td>3.26</td>\n",
       "      <td>7.96</td>\n",
       "      <td>0.0</td>\n",
       "      <td>0</td>\n",
       "    </tr>\n",
       "    <tr>\n",
       "      <th>833595</th>\n",
       "      <td>2018-01-01 04:00:00</td>\n",
       "      <td>6.69</td>\n",
       "      <td>5.10</td>\n",
       "      <td>0.0</td>\n",
       "      <td>0</td>\n",
       "    </tr>\n",
       "  </tbody>\n",
       "</table>\n",
       "</div>"
      ],
      "text/plain": [
       "                        ds  apparentTemperature  windSpeed  cap  floor\n",
       "833591 2018-01-01 00:00:00                 1.54       7.83  0.0      0\n",
       "833592 2018-01-01 01:00:00                 3.08       6.69  0.0      0\n",
       "833593 2018-01-01 02:00:00                 1.97       8.10  0.0      0\n",
       "833594 2018-01-01 03:00:00                 3.26       7.96  0.0      0\n",
       "833595 2018-01-01 04:00:00                 6.69       5.10  0.0      0"
      ]
     },
     "execution_count": 50,
     "metadata": {},
     "output_type": "execute_result"
    }
   ],
   "source": [
    "future.head()"
   ]
  },
  {
   "cell_type": "code",
   "execution_count": 51,
   "metadata": {},
   "outputs": [
    {
     "data": {
      "text/plain": [
       "ds                     datetime64[ns]\n",
       "apparentTemperature           float64\n",
       "windSpeed                     float64\n",
       "cap                           float64\n",
       "floor                           int64\n",
       "dtype: object"
      ]
     },
     "execution_count": 51,
     "metadata": {},
     "output_type": "execute_result"
    }
   ],
   "source": [
    "future.dtypes"
   ]
  },
  {
   "cell_type": "code",
   "execution_count": 52,
   "metadata": {},
   "outputs": [
    {
     "name": "stdout",
     "output_type": "stream",
     "text": [
      "0.0\n"
     ]
    }
   ],
   "source": [
    "print(specific_location['y'].max())"
   ]
  },
  {
   "cell_type": "code",
   "execution_count": 53,
   "metadata": {},
   "outputs": [
    {
     "data": {
      "text/plain": [
       "count    8760.0\n",
       "mean        0.0\n",
       "std         0.0\n",
       "min         0.0\n",
       "25%         0.0\n",
       "50%         0.0\n",
       "75%         0.0\n",
       "max         0.0\n",
       "Name: y, dtype: float64"
      ]
     },
     "execution_count": 53,
     "metadata": {},
     "output_type": "execute_result"
    }
   ],
   "source": [
    "specific_location['y'].describe()"
   ]
  },
  {
   "cell_type": "code",
   "execution_count": 54,
   "metadata": {
    "scrolled": true
   },
   "outputs": [
    {
     "name": "stderr",
     "output_type": "stream",
     "text": [
      "/usr/local/lib/python3.5/dist-packages/ipykernel_launcher.py:1: SettingWithCopyWarning:\n",
      "\n",
      "\n",
      "A value is trying to be set on a copy of a slice from a DataFrame.\n",
      "Try using .loc[row_indexer,col_indexer] = value instead\n",
      "\n",
      "See the caveats in the documentation: http://pandas.pydata.org/pandas-docs/stable/user_guide/indexing.html#returning-a-view-versus-a-copy\n",
      "\n",
      "/usr/local/lib/python3.5/dist-packages/ipykernel_launcher.py:2: SettingWithCopyWarning:\n",
      "\n",
      "\n",
      "A value is trying to be set on a copy of a slice from a DataFrame.\n",
      "Try using .loc[row_indexer,col_indexer] = value instead\n",
      "\n",
      "See the caveats in the documentation: http://pandas.pydata.org/pandas-docs/stable/user_guide/indexing.html#returning-a-view-versus-a-copy\n",
      "\n"
     ]
    }
   ],
   "source": [
    "future['cap'] = 1392\n",
    "future['floor'] = 0"
   ]
  },
  {
   "cell_type": "code",
   "execution_count": 55,
   "metadata": {},
   "outputs": [],
   "source": [
    "drop_df = pd.read_csv('/home/jupyter/capstone/database/complete_dropoff_2018.csv')"
   ]
  },
  {
   "cell_type": "code",
   "execution_count": 56,
   "metadata": {},
   "outputs": [],
   "source": [
    "drop_df.rename(columns={'datetime':'ds','Count' : 'y'},inplace=True)"
   ]
  },
  {
   "cell_type": "code",
   "execution_count": 57,
   "metadata": {},
   "outputs": [],
   "source": [
    "specific_drop = drop_df[drop_df['DOLocationID'] == 104]"
   ]
  },
  {
   "cell_type": "code",
   "execution_count": 58,
   "metadata": {},
   "outputs": [],
   "source": [
    "specific_drop = specific_drop[['ds','apparentTemperature','windSpeed','y']]"
   ]
  },
  {
   "cell_type": "code",
   "execution_count": 59,
   "metadata": {},
   "outputs": [],
   "source": [
    "specific_drop['cap']= specific_drop['y'].max() + 1\n",
    "specific_drop['floor'] = 0"
   ]
  },
  {
   "cell_type": "code",
   "execution_count": 60,
   "metadata": {},
   "outputs": [],
   "source": [
    "specific_drop['ds'] = pd.to_datetime(specific_drop['ds'])"
   ]
  },
  {
   "cell_type": "code",
   "execution_count": 62,
   "metadata": {},
   "outputs": [
    {
     "data": {
      "text/plain": [
       "<fbprophet.forecaster.Prophet at 0x7fbd2a7492e8>"
      ]
     },
     "execution_count": 62,
     "metadata": {},
     "output_type": "execute_result"
    }
   ],
   "source": [
    "m = Prophet(growth='logistic',changepoint_prior_scale = 30,seasonality_prior_scale=35,holidays_prior_scale=20,seasonality_mode='multiplicative',yearly_seasonality=True,\n",
    "    weekly_seasonality=True,\n",
    "    daily_seasonality=True)\n",
    "m.add_country_holidays(country_name='US')\n",
    "m.add_seasonality(name='hourly', period=24, fourier_order=5)"
   ]
  },
  {
   "cell_type": "code",
   "execution_count": 63,
   "metadata": {},
   "outputs": [],
   "source": [
    "m.train_holiday_names"
   ]
  },
  {
   "cell_type": "code",
   "execution_count": null,
   "metadata": {},
   "outputs": [],
   "source": []
  },
  {
   "cell_type": "code",
   "execution_count": null,
   "metadata": {},
   "outputs": [],
   "source": [
    "# m.add_regressor('type')\n",
    "# m.add_regressor('Total Volume')\n",
    "# m.add_regressor('4046')\n",
    "# m.add_regressor('4225')\n",
    "# m.add_regressor('4770')\n",
    "# m.add_regressor('Small Bags')"
   ]
  },
  {
   "cell_type": "code",
   "execution_count": 64,
   "metadata": {},
   "outputs": [
    {
     "data": {
      "text/plain": [
       "<fbprophet.forecaster.Prophet at 0x7fbd2a7492e8>"
      ]
     },
     "execution_count": 64,
     "metadata": {},
     "output_type": "execute_result"
    }
   ],
   "source": [
    "m.add_regressor('apparentTemperature')\n",
    "m.add_regressor('windSpeed')"
   ]
  },
  {
   "cell_type": "code",
   "execution_count": 65,
   "metadata": {},
   "outputs": [
    {
     "data": {
      "text/plain": [
       "<fbprophet.forecaster.Prophet at 0x7fbd2a7492e8>"
      ]
     },
     "execution_count": 65,
     "metadata": {},
     "output_type": "execute_result"
    }
   ],
   "source": [
    "m.fit(specific_drop)"
   ]
  },
  {
   "cell_type": "code",
   "execution_count": null,
   "metadata": {},
   "outputs": [],
   "source": [
    "# jan_2019 = pd.read_csv('C:/Users/Arinab/Desktop/DataScience/capstone/Processed-dataframe/weather_pickup_jan_2019.csv')"
   ]
  },
  {
   "cell_type": "code",
   "execution_count": 66,
   "metadata": {},
   "outputs": [
    {
     "data": {
      "text/plain": [
       "array([2.])"
      ]
     },
     "execution_count": 66,
     "metadata": {},
     "output_type": "execute_result"
    }
   ],
   "source": [
    "specific_drop['cap'].unique()"
   ]
  },
  {
   "cell_type": "code",
   "execution_count": 86,
   "metadata": {},
   "outputs": [],
   "source": [
    "forecast = m.predict(future)"
   ]
  },
  {
   "cell_type": "code",
   "execution_count": 87,
   "metadata": {},
   "outputs": [
    {
     "data": {
      "text/html": [
       "<div>\n",
       "<style scoped>\n",
       "    .dataframe tbody tr th:only-of-type {\n",
       "        vertical-align: middle;\n",
       "    }\n",
       "\n",
       "    .dataframe tbody tr th {\n",
       "        vertical-align: top;\n",
       "    }\n",
       "\n",
       "    .dataframe thead th {\n",
       "        text-align: right;\n",
       "    }\n",
       "</style>\n",
       "<table border=\"1\" class=\"dataframe\">\n",
       "  <thead>\n",
       "    <tr style=\"text-align: right;\">\n",
       "      <th></th>\n",
       "      <th>ds</th>\n",
       "      <th>trend</th>\n",
       "      <th>cap</th>\n",
       "      <th>floor</th>\n",
       "      <th>trend_lower</th>\n",
       "      <th>trend_upper</th>\n",
       "      <th>yhat_lower</th>\n",
       "      <th>yhat_upper</th>\n",
       "      <th>Christmas Day</th>\n",
       "      <th>Christmas Day_lower</th>\n",
       "      <th>...</th>\n",
       "      <th>weekly</th>\n",
       "      <th>weekly_lower</th>\n",
       "      <th>weekly_upper</th>\n",
       "      <th>windSpeed</th>\n",
       "      <th>windSpeed_lower</th>\n",
       "      <th>windSpeed_upper</th>\n",
       "      <th>yearly</th>\n",
       "      <th>yearly_lower</th>\n",
       "      <th>yearly_upper</th>\n",
       "      <th>yhat</th>\n",
       "    </tr>\n",
       "  </thead>\n",
       "  <tbody>\n",
       "    <tr>\n",
       "      <th>0</th>\n",
       "      <td>2018-01-01 00:00:00</td>\n",
       "      <td>7.604817e-23</td>\n",
       "      <td>1392</td>\n",
       "      <td>0</td>\n",
       "      <td>7.604817e-23</td>\n",
       "      <td>7.604817e-23</td>\n",
       "      <td>-0.012781</td>\n",
       "      <td>0.012292</td>\n",
       "      <td>0.0</td>\n",
       "      <td>0.0</td>\n",
       "      <td>...</td>\n",
       "      <td>-11.903279</td>\n",
       "      <td>-11.903279</td>\n",
       "      <td>-11.903279</td>\n",
       "      <td>36.934053</td>\n",
       "      <td>36.934053</td>\n",
       "      <td>36.934053</td>\n",
       "      <td>-7.148552</td>\n",
       "      <td>-7.148552</td>\n",
       "      <td>-7.148552</td>\n",
       "      <td>6.009428e-21</td>\n",
       "    </tr>\n",
       "    <tr>\n",
       "      <th>1</th>\n",
       "      <td>2018-01-01 01:00:00</td>\n",
       "      <td>7.610514e-23</td>\n",
       "      <td>1392</td>\n",
       "      <td>0</td>\n",
       "      <td>7.610514e-23</td>\n",
       "      <td>7.610514e-23</td>\n",
       "      <td>-0.013047</td>\n",
       "      <td>0.012773</td>\n",
       "      <td>0.0</td>\n",
       "      <td>0.0</td>\n",
       "      <td>...</td>\n",
       "      <td>-14.697650</td>\n",
       "      <td>-14.697650</td>\n",
       "      <td>-14.697650</td>\n",
       "      <td>22.643332</td>\n",
       "      <td>22.643332</td>\n",
       "      <td>22.643332</td>\n",
       "      <td>-7.143359</td>\n",
       "      <td>-7.143359</td>\n",
       "      <td>-7.143359</td>\n",
       "      <td>4.187826e-21</td>\n",
       "    </tr>\n",
       "    <tr>\n",
       "      <th>2</th>\n",
       "      <td>2018-01-01 02:00:00</td>\n",
       "      <td>7.616216e-23</td>\n",
       "      <td>1392</td>\n",
       "      <td>0</td>\n",
       "      <td>7.616216e-23</td>\n",
       "      <td>7.616216e-23</td>\n",
       "      <td>-0.013180</td>\n",
       "      <td>0.012407</td>\n",
       "      <td>0.0</td>\n",
       "      <td>0.0</td>\n",
       "      <td>...</td>\n",
       "      <td>-17.190069</td>\n",
       "      <td>-17.190069</td>\n",
       "      <td>-17.190069</td>\n",
       "      <td>40.318698</td>\n",
       "      <td>40.318698</td>\n",
       "      <td>40.318698</td>\n",
       "      <td>-7.138130</td>\n",
       "      <td>-7.138130</td>\n",
       "      <td>-7.138130</td>\n",
       "      <td>3.531828e-21</td>\n",
       "    </tr>\n",
       "    <tr>\n",
       "      <th>3</th>\n",
       "      <td>2018-01-01 03:00:00</td>\n",
       "      <td>7.621922e-23</td>\n",
       "      <td>1392</td>\n",
       "      <td>0</td>\n",
       "      <td>7.621922e-23</td>\n",
       "      <td>7.621922e-23</td>\n",
       "      <td>-0.011973</td>\n",
       "      <td>0.013740</td>\n",
       "      <td>0.0</td>\n",
       "      <td>0.0</td>\n",
       "      <td>...</td>\n",
       "      <td>-19.342191</td>\n",
       "      <td>-19.342191</td>\n",
       "      <td>-19.342191</td>\n",
       "      <td>38.563697</td>\n",
       "      <td>38.563697</td>\n",
       "      <td>38.563697</td>\n",
       "      <td>-7.132867</td>\n",
       "      <td>-7.132867</td>\n",
       "      <td>-7.132867</td>\n",
       "      <td>1.824725e-21</td>\n",
       "    </tr>\n",
       "    <tr>\n",
       "      <th>4</th>\n",
       "      <td>2018-01-01 04:00:00</td>\n",
       "      <td>7.627632e-23</td>\n",
       "      <td>1392</td>\n",
       "      <td>0</td>\n",
       "      <td>7.627632e-23</td>\n",
       "      <td>7.627632e-23</td>\n",
       "      <td>-0.012574</td>\n",
       "      <td>0.013770</td>\n",
       "      <td>0.0</td>\n",
       "      <td>0.0</td>\n",
       "      <td>...</td>\n",
       "      <td>-21.120876</td>\n",
       "      <td>-21.120876</td>\n",
       "      <td>-21.120876</td>\n",
       "      <td>2.711536</td>\n",
       "      <td>2.711536</td>\n",
       "      <td>2.711536</td>\n",
       "      <td>-7.127570</td>\n",
       "      <td>-7.127570</td>\n",
       "      <td>-7.127570</td>\n",
       "      <td>-8.509082e-22</td>\n",
       "    </tr>\n",
       "    <tr>\n",
       "      <th>...</th>\n",
       "      <td>...</td>\n",
       "      <td>...</td>\n",
       "      <td>...</td>\n",
       "      <td>...</td>\n",
       "      <td>...</td>\n",
       "      <td>...</td>\n",
       "      <td>...</td>\n",
       "      <td>...</td>\n",
       "      <td>...</td>\n",
       "      <td>...</td>\n",
       "      <td>...</td>\n",
       "      <td>...</td>\n",
       "      <td>...</td>\n",
       "      <td>...</td>\n",
       "      <td>...</td>\n",
       "      <td>...</td>\n",
       "      <td>...</td>\n",
       "      <td>...</td>\n",
       "      <td>...</td>\n",
       "      <td>...</td>\n",
       "      <td>...</td>\n",
       "    </tr>\n",
       "    <tr>\n",
       "      <th>8755</th>\n",
       "      <td>2018-12-31 19:00:00</td>\n",
       "      <td>3.653004e-45</td>\n",
       "      <td>1392</td>\n",
       "      <td>0</td>\n",
       "      <td>3.653004e-45</td>\n",
       "      <td>3.653004e-45</td>\n",
       "      <td>-0.013152</td>\n",
       "      <td>0.014684</td>\n",
       "      <td>0.0</td>\n",
       "      <td>0.0</td>\n",
       "      <td>...</td>\n",
       "      <td>0.632474</td>\n",
       "      <td>0.632474</td>\n",
       "      <td>0.632474</td>\n",
       "      <td>-42.040986</td>\n",
       "      <td>-42.040986</td>\n",
       "      <td>-42.040986</td>\n",
       "      <td>-7.203302</td>\n",
       "      <td>-7.203302</td>\n",
       "      <td>-7.203302</td>\n",
       "      <td>3.710109e-43</td>\n",
       "    </tr>\n",
       "    <tr>\n",
       "      <th>8756</th>\n",
       "      <td>2018-12-31 20:00:00</td>\n",
       "      <td>3.581896e-45</td>\n",
       "      <td>1392</td>\n",
       "      <td>0</td>\n",
       "      <td>3.581896e-45</td>\n",
       "      <td>3.581896e-45</td>\n",
       "      <td>-0.013513</td>\n",
       "      <td>0.013520</td>\n",
       "      <td>0.0</td>\n",
       "      <td>0.0</td>\n",
       "      <td>...</td>\n",
       "      <td>4.313805</td>\n",
       "      <td>4.313805</td>\n",
       "      <td>4.313805</td>\n",
       "      <td>-41.915628</td>\n",
       "      <td>-41.915628</td>\n",
       "      <td>-41.915628</td>\n",
       "      <td>-7.198509</td>\n",
       "      <td>-7.198509</td>\n",
       "      <td>-7.198509</td>\n",
       "      <td>1.204029e-43</td>\n",
       "    </tr>\n",
       "    <tr>\n",
       "      <th>8757</th>\n",
       "      <td>2018-12-31 21:00:00</td>\n",
       "      <td>3.512171e-45</td>\n",
       "      <td>1392</td>\n",
       "      <td>0</td>\n",
       "      <td>3.512171e-45</td>\n",
       "      <td>3.512171e-45</td>\n",
       "      <td>-0.013036</td>\n",
       "      <td>0.013100</td>\n",
       "      <td>0.0</td>\n",
       "      <td>0.0</td>\n",
       "      <td>...</td>\n",
       "      <td>8.023679</td>\n",
       "      <td>8.023679</td>\n",
       "      <td>8.023679</td>\n",
       "      <td>-41.915628</td>\n",
       "      <td>-41.915628</td>\n",
       "      <td>-41.915628</td>\n",
       "      <td>-7.193679</td>\n",
       "      <td>-7.193679</td>\n",
       "      <td>-7.193679</td>\n",
       "      <td>-1.036457e-43</td>\n",
       "    </tr>\n",
       "    <tr>\n",
       "      <th>8758</th>\n",
       "      <td>2018-12-31 22:00:00</td>\n",
       "      <td>3.443804e-45</td>\n",
       "      <td>1392</td>\n",
       "      <td>0</td>\n",
       "      <td>3.443804e-45</td>\n",
       "      <td>3.443804e-45</td>\n",
       "      <td>-0.014037</td>\n",
       "      <td>0.013687</td>\n",
       "      <td>0.0</td>\n",
       "      <td>0.0</td>\n",
       "      <td>...</td>\n",
       "      <td>11.704930</td>\n",
       "      <td>11.704930</td>\n",
       "      <td>11.704930</td>\n",
       "      <td>-43.670629</td>\n",
       "      <td>-43.670629</td>\n",
       "      <td>-43.670629</td>\n",
       "      <td>-7.188811</td>\n",
       "      <td>-7.188811</td>\n",
       "      <td>-7.188811</td>\n",
       "      <td>-1.901598e-43</td>\n",
       "    </tr>\n",
       "    <tr>\n",
       "      <th>8759</th>\n",
       "      <td>2018-12-31 23:00:00</td>\n",
       "      <td>3.376768e-45</td>\n",
       "      <td>1392</td>\n",
       "      <td>0</td>\n",
       "      <td>3.376768e-45</td>\n",
       "      <td>3.376768e-45</td>\n",
       "      <td>-0.012595</td>\n",
       "      <td>0.014061</td>\n",
       "      <td>0.0</td>\n",
       "      <td>0.0</td>\n",
       "      <td>...</td>\n",
       "      <td>15.300189</td>\n",
       "      <td>15.300189</td>\n",
       "      <td>15.300189</td>\n",
       "      <td>-40.536699</td>\n",
       "      <td>-40.536699</td>\n",
       "      <td>-40.536699</td>\n",
       "      <td>-7.183906</td>\n",
       "      <td>-7.183906</td>\n",
       "      <td>-7.183906</td>\n",
       "      <td>-1.356504e-43</td>\n",
       "    </tr>\n",
       "  </tbody>\n",
       "</table>\n",
       "<p>8760 rows × 72 columns</p>\n",
       "</div>"
      ],
      "text/plain": [
       "                      ds         trend   cap  floor   trend_lower  \\\n",
       "0    2018-01-01 00:00:00  7.604817e-23  1392      0  7.604817e-23   \n",
       "1    2018-01-01 01:00:00  7.610514e-23  1392      0  7.610514e-23   \n",
       "2    2018-01-01 02:00:00  7.616216e-23  1392      0  7.616216e-23   \n",
       "3    2018-01-01 03:00:00  7.621922e-23  1392      0  7.621922e-23   \n",
       "4    2018-01-01 04:00:00  7.627632e-23  1392      0  7.627632e-23   \n",
       "...                  ...           ...   ...    ...           ...   \n",
       "8755 2018-12-31 19:00:00  3.653004e-45  1392      0  3.653004e-45   \n",
       "8756 2018-12-31 20:00:00  3.581896e-45  1392      0  3.581896e-45   \n",
       "8757 2018-12-31 21:00:00  3.512171e-45  1392      0  3.512171e-45   \n",
       "8758 2018-12-31 22:00:00  3.443804e-45  1392      0  3.443804e-45   \n",
       "8759 2018-12-31 23:00:00  3.376768e-45  1392      0  3.376768e-45   \n",
       "\n",
       "       trend_upper  yhat_lower  yhat_upper  Christmas Day  \\\n",
       "0     7.604817e-23   -0.012781    0.012292            0.0   \n",
       "1     7.610514e-23   -0.013047    0.012773            0.0   \n",
       "2     7.616216e-23   -0.013180    0.012407            0.0   \n",
       "3     7.621922e-23   -0.011973    0.013740            0.0   \n",
       "4     7.627632e-23   -0.012574    0.013770            0.0   \n",
       "...            ...         ...         ...            ...   \n",
       "8755  3.653004e-45   -0.013152    0.014684            0.0   \n",
       "8756  3.581896e-45   -0.013513    0.013520            0.0   \n",
       "8757  3.512171e-45   -0.013036    0.013100            0.0   \n",
       "8758  3.443804e-45   -0.014037    0.013687            0.0   \n",
       "8759  3.376768e-45   -0.012595    0.014061            0.0   \n",
       "\n",
       "      Christmas Day_lower  ...     weekly  weekly_lower  weekly_upper  \\\n",
       "0                     0.0  ... -11.903279    -11.903279    -11.903279   \n",
       "1                     0.0  ... -14.697650    -14.697650    -14.697650   \n",
       "2                     0.0  ... -17.190069    -17.190069    -17.190069   \n",
       "3                     0.0  ... -19.342191    -19.342191    -19.342191   \n",
       "4                     0.0  ... -21.120876    -21.120876    -21.120876   \n",
       "...                   ...  ...        ...           ...           ...   \n",
       "8755                  0.0  ...   0.632474      0.632474      0.632474   \n",
       "8756                  0.0  ...   4.313805      4.313805      4.313805   \n",
       "8757                  0.0  ...   8.023679      8.023679      8.023679   \n",
       "8758                  0.0  ...  11.704930     11.704930     11.704930   \n",
       "8759                  0.0  ...  15.300189     15.300189     15.300189   \n",
       "\n",
       "      windSpeed  windSpeed_lower  windSpeed_upper    yearly  yearly_lower  \\\n",
       "0     36.934053        36.934053        36.934053 -7.148552     -7.148552   \n",
       "1     22.643332        22.643332        22.643332 -7.143359     -7.143359   \n",
       "2     40.318698        40.318698        40.318698 -7.138130     -7.138130   \n",
       "3     38.563697        38.563697        38.563697 -7.132867     -7.132867   \n",
       "4      2.711536         2.711536         2.711536 -7.127570     -7.127570   \n",
       "...         ...              ...              ...       ...           ...   \n",
       "8755 -42.040986       -42.040986       -42.040986 -7.203302     -7.203302   \n",
       "8756 -41.915628       -41.915628       -41.915628 -7.198509     -7.198509   \n",
       "8757 -41.915628       -41.915628       -41.915628 -7.193679     -7.193679   \n",
       "8758 -43.670629       -43.670629       -43.670629 -7.188811     -7.188811   \n",
       "8759 -40.536699       -40.536699       -40.536699 -7.183906     -7.183906   \n",
       "\n",
       "      yearly_upper          yhat  \n",
       "0        -7.148552  6.009428e-21  \n",
       "1        -7.143359  4.187826e-21  \n",
       "2        -7.138130  3.531828e-21  \n",
       "3        -7.132867  1.824725e-21  \n",
       "4        -7.127570 -8.509082e-22  \n",
       "...            ...           ...  \n",
       "8755     -7.203302  3.710109e-43  \n",
       "8756     -7.198509  1.204029e-43  \n",
       "8757     -7.193679 -1.036457e-43  \n",
       "8758     -7.188811 -1.901598e-43  \n",
       "8759     -7.183906 -1.356504e-43  \n",
       "\n",
       "[8760 rows x 72 columns]"
      ]
     },
     "execution_count": 87,
     "metadata": {},
     "output_type": "execute_result"
    }
   ],
   "source": [
    "forecast"
   ]
  },
  {
   "cell_type": "code",
   "execution_count": 88,
   "metadata": {},
   "outputs": [
    {
     "data": {
      "image/png": "[encoded data removed]",
      "text/plain": [
       "<Figure size 720x432 with 1 Axes>"
      ]
     },
     "execution_count": 88,
     "metadata": {},
     "output_type": "execute_result"
    },
    {
     "data": {
      "image/png": "[encoded data removed]",
      "text/plain": [
       "<Figure size 720x432 with 1 Axes>"
      ]
     },
     "metadata": {},
     "output_type": "display_data"
    }
   ],
   "source": [
    "m.plot(forecast)"
   ]
  },
  {
   "cell_type": "code",
   "execution_count": 89,
   "metadata": {},
   "outputs": [
    {
     "data": {
      "image/png": "[encoded data removed]",
      "text/plain": [
       "<Figure size 648x1512 with 7 Axes>"
      ]
     },
     "metadata": {},
     "output_type": "display_data"
    }
   ],
   "source": [
    "fig = m.plot_components(forecast)"
   ]
  },
  {
   "cell_type": "code",
   "execution_count": 90,
   "metadata": {},
   "outputs": [],
   "source": [
    "def remove_negs(ts):\n",
    "    ts['yhat'] = ts['yhat'].clip_lower(0)\n",
    "    ts['yhat_lower'] = ts['yhat_lower'].clip_lower(0)\n",
    "    ts['yhat_upper'] = ts['yhat_upper'].clip_lower(0)\n",
    "    return ts"
   ]
  },
  {
   "cell_type": "code",
   "execution_count": 91,
   "metadata": {},
   "outputs": [],
   "source": [
    "forecast['ds'] = forecast['ds'].apply(str)\n",
    "specific_location['ds'] = specific_location['ds'].apply(str)\n",
    "\n",
    "final = pd.merge(forecast[['ds', 'yhat', 'yhat_lower', 'yhat_upper']],specific_location,on='ds',how='inner')\n"
   ]
  },
  {
   "cell_type": "code",
   "execution_count": 92,
   "metadata": {},
   "outputs": [
    {
     "name": "stderr",
     "output_type": "stream",
     "text": [
      "/usr/local/lib/python3.5/dist-packages/ipykernel_launcher.py:2: FutureWarning:\n",
      "\n",
      "clip_lower(threshold) is deprecated, use clip(lower=threshold) instead\n",
      "\n",
      "/usr/local/lib/python3.5/dist-packages/ipykernel_launcher.py:3: FutureWarning:\n",
      "\n",
      "clip_lower(threshold) is deprecated, use clip(lower=threshold) instead\n",
      "\n",
      "/usr/local/lib/python3.5/dist-packages/ipykernel_launcher.py:4: FutureWarning:\n",
      "\n",
      "clip_lower(threshold) is deprecated, use clip(lower=threshold) instead\n",
      "\n"
     ]
    }
   ],
   "source": [
    "final = remove_negs(final)"
   ]
  },
  {
   "cell_type": "code",
   "execution_count": 93,
   "metadata": {},
   "outputs": [],
   "source": [
    "final['residual'] = final['y'] - final['yhat']"
   ]
  },
  {
   "cell_type": "code",
   "execution_count": 94,
   "metadata": {},
   "outputs": [],
   "source": [
    "final['residual'] = final['y'] - final['yhat']"
   ]
  },
  {
   "cell_type": "code",
   "execution_count": 95,
   "metadata": {},
   "outputs": [
    {
     "data": {
      "image/png": "[encoded data removed]",
      "text/plain": [
       "<Figure size 432x288 with 1 Axes>"
      ]
     },
     "metadata": {
      "needs_background": "light"
     },
     "output_type": "display_data"
    }
   ],
   "source": [
    "sns.scatterplot(data=final['residual']);"
   ]
  },
  {
   "cell_type": "code",
   "execution_count": 96,
   "metadata": {
    "scrolled": true
   },
   "outputs": [
    {
     "name": "stderr",
     "output_type": "stream",
     "text": [
      "/usr/local/lib/python3.5/site-packages/scipy/stats/stats.py:1713: FutureWarning:\n",
      "\n",
      "Using a non-tuple sequence for multidimensional indexing is deprecated; use `arr[tuple(seq)]` instead of `arr[seq]`. In the future this will be interpreted as an array index, `arr[np.array(seq)]`, which will result either in an error or a different result.\n",
      "\n",
      "/usr/local/lib/python3.5/site-packages/scipy/stats/stats.py:1713: FutureWarning:\n",
      "\n",
      "Using a non-tuple sequence for multidimensional indexing is deprecated; use `arr[tuple(seq)]` instead of `arr[seq]`. In the future this will be interpreted as an array index, `arr[np.array(seq)]`, which will result either in an error or a different result.\n",
      "\n"
     ]
    },
    {
     "data": {
      "text/plain": [
       "<matplotlib.axes._subplots.AxesSubplot at 0x7fbce840c240>"
      ]
     },
     "execution_count": 96,
     "metadata": {},
     "output_type": "execute_result"
    },
    {
     "data": {
      "image/png": "[encoded data removed]",
      "text/plain": [
       "<Figure size 432x288 with 1 Axes>"
      ]
     },
     "metadata": {
      "needs_background": "light"
     },
     "output_type": "display_data"
    }
   ],
   "source": [
    "sns.distplot(final['residual'])"
   ]
  },
  {
   "cell_type": "markdown",
   "metadata": {},
   "source": [
    "An uniform distribution suggests that the resuduals or errors are homoscedastic i.e they are pretty evenly distributed around the prediction line"
   ]
  },
  {
   "cell_type": "code",
   "execution_count": 97,
   "metadata": {},
   "outputs": [
    {
     "data": {
      "text/plain": [
       "<matplotlib.axes._subplots.AxesSubplot at 0x7fbce6a510b8>"
      ]
     },
     "execution_count": 97,
     "metadata": {},
     "output_type": "execute_result"
    },
    {
     "data": {
      "image/png": "[encoded data removed]",
      "text/plain": [
       "<Figure size 432x288 with 1 Axes>"
      ]
     },
     "metadata": {
      "needs_background": "light"
     },
     "output_type": "display_data"
    }
   ],
   "source": [
    "final[['yhat','y']].tail(200).plot()"
   ]
  },
  {
   "cell_type": "code",
   "execution_count": null,
   "metadata": {},
   "outputs": [],
   "source": []
  },
  {
   "cell_type": "code",
   "execution_count": 98,
   "metadata": {},
   "outputs": [],
   "source": [
    "from sklearn.metrics import mean_absolute_error,mean_squared_error"
   ]
  },
  {
   "cell_type": "code",
   "execution_count": 99,
   "metadata": {},
   "outputs": [
    {
     "name": "stdout",
     "output_type": "stream",
     "text": [
      "0.19147946073598146\n"
     ]
    }
   ],
   "source": [
    "mae_score = mean_absolute_error(final['y'].values,final['yhat'].values)\n",
    "print(mae_score)"
   ]
  },
  {
   "cell_type": "code",
   "execution_count": 100,
   "metadata": {},
   "outputs": [
    {
     "name": "stdout",
     "output_type": "stream",
     "text": [
      "3.255121327070163\n"
     ]
    }
   ],
   "source": [
    "mse_score = mean_squared_error(final['y'].values,final['yhat'].values)\n",
    "print(mse_score)"
   ]
  },
  {
   "cell_type": "code",
   "execution_count": 101,
   "metadata": {},
   "outputs": [
    {
     "name": "stdout",
     "output_type": "stream",
     "text": [
      "1.8041954791735186\n"
     ]
    }
   ],
   "source": [
    "rmse_score = np.sqrt(mse_score)\n",
    "print(rmse_score)"
   ]
  },
  {
   "cell_type": "markdown",
   "metadata": {},
   "source": [
    "### Root Mean Square Error (RMSE) tells us that our model was able to forecast the average hourly pickup in the train set within 119 of the actual average number of pickup. Our average number of pick up range from around 0 to over 1392."
   ]
  },
  {
   "cell_type": "code",
   "execution_count": null,
   "metadata": {},
   "outputs": [],
   "source": []
  },
  {
   "cell_type": "code",
   "execution_count": null,
   "metadata": {},
   "outputs": [],
   "source": [
    "specific_location.head()"
   ]
  },
  {
   "cell_type": "code",
   "execution_count": null,
   "metadata": {
    "scrolled": true
   },
   "outputs": [],
   "source": [
    "df_cv = cross_validation(m, initial='4320 hours', period='720 hours',horizon='720 hours')\n",
    "df_cv.shape"
   ]
  },
  {
   "cell_type": "code",
   "execution_count": null,
   "metadata": {},
   "outputs": [],
   "source": [
    "df_cv = remove_negs(df_cv)"
   ]
  },
  {
   "cell_type": "code",
   "execution_count": null,
   "metadata": {},
   "outputs": [],
   "source": []
  },
  {
   "cell_type": "code",
   "execution_count": null,
   "metadata": {},
   "outputs": [],
   "source": []
  },
  {
   "cell_type": "code",
   "execution_count": null,
   "metadata": {},
   "outputs": [],
   "source": [
    "from fbprophet.diagnostics import performance_metrics\n",
    "df_p = performance_metrics(df_cv)"
   ]
  },
  {
   "cell_type": "code",
   "execution_count": null,
   "metadata": {},
   "outputs": [],
   "source": [
    "df_p"
   ]
  },
  {
   "cell_type": "code",
   "execution_count": null,
   "metadata": {},
   "outputs": [],
   "source": [
    "from fbprophet.plot import plot_cross_validation_metric\n",
    "fig = plot_cross_validation_metric(df_cv, metric='mape',rolling_window=0.1)"
   ]
  },
  {
   "cell_type": "code",
   "execution_count": null,
   "metadata": {},
   "outputs": [],
   "source": [
    "specific_location.sort_values(by='ds',inplace=True)"
   ]
  },
  {
   "cell_type": "code",
   "execution_count": 70,
   "metadata": {},
   "outputs": [],
   "source": []
  },
  {
   "cell_type": "code",
   "execution_count": null,
   "metadata": {},
   "outputs": [],
   "source": []
  },
  {
   "cell_type": "code",
   "execution_count": 102,
   "metadata": {},
   "outputs": [
    {
     "name": "stdout",
     "output_type": "stream",
     "text": [
      "        t-1  t+1\n",
      "833591  NaN  0.0\n",
      "833592  0.0  0.0\n",
      "833593  0.0  0.0\n",
      "833594  0.0  0.0\n",
      "833595  0.0  0.0\n",
      "Test MSE: 0.000\n",
      "Test RMSE: 0.000\n"
     ]
    },
    {
     "data": {
      "image/png": "[encoded data removed]",
      "text/plain": [
       "<Figure size 432x288 with 1 Axes>"
      ]
     },
     "metadata": {
      "needs_background": "light"
     },
     "output_type": "display_data"
    }
   ],
   "source": [
    "from pandas import read_csv\n",
    "from pandas import datetime\n",
    "from pandas import DataFrame\n",
    "from pandas import concat\n",
    "from matplotlib import pyplot\n",
    "from sklearn.metrics import mean_squared_error\n",
    "\n",
    "def parser(x):\n",
    "    return datetime.strptime('190'+x, '%Y-%m')\n",
    "\n",
    "# Create lagged dataset\n",
    "values = DataFrame(specific_location.y)\n",
    "dataframe = concat([values.shift(1), values], axis=1)\n",
    "dataframe.columns = ['t-1', 't+1']\n",
    "print(dataframe.head(5))\n",
    "\n",
    "# split into train and test sets\n",
    "X = dataframe.values\n",
    "train_size = int(len(X) * 0.66)\n",
    "train, test = X[1:train_size], X[train_size:]\n",
    "train_X, train_y = train[:,0], train[:,1]\n",
    "test_X, test_y = test[:,0], test[:,1]\n",
    "\n",
    "# persistence model\n",
    "def model_persistence(x):\n",
    "    return x\n",
    "\n",
    "# walk-forward validation\n",
    "predictions = list()\n",
    "for x in test_X:\n",
    "    yhat = model_persistence(x)\n",
    "    predictions.append(yhat)\n",
    "test_score = mean_squared_error(test_y, predictions)\n",
    "rmse = np.sqrt(test_score)\n",
    "print('Test MSE: %.3f' % test_score)\n",
    "print('Test RMSE: %.3f' % rmse)\n",
    "\n",
    "# plot predictions and expected results\n",
    "pyplot.plot(train_y)\n",
    "pyplot.plot([None for i in train_y] + [x for x in test_y])\n",
    "pyplot.plot([None for i in train_y] + [x for x in predictions])\n",
    "pyplot.show()\n"
   ]
  },
  {
   "cell_type": "code",
   "execution_count": null,
   "metadata": {},
   "outputs": [],
   "source": [
    "playoffs = pd.DataFrame({\n",
    "  'holiday': 'playoff',\n",
    "  'ds': pd.to_datetime(['2008-01-13', '2009-01-03', '2010-01-16',\n",
    "                        '2010-01-24', '2010-02-07', '2011-01-08',\n",
    "                        '2013-01-12', '2014-01-12', '2014-01-19',\n",
    "                        '2014-02-02', '2015-01-11', '2016-01-17',\n",
    "                        '2016-01-24', '2016-02-07']),\n",
    "  'lower_window': 0,\n",
    "  'upper_window': 1,\n",
    "})\n",
    "superbowls = pd.DataFrame({\n",
    "  'holiday': 'superbowl',\n",
    "  'ds': pd.to_datetime(['2010-02-07', '2014-02-02', '2016-02-07']),\n",
    "  'lower_window': 0,\n",
    "  'upper_window': 1,\n",
    "})\n",
    "holidays = pd.concat((playoffs, superbowls))"
   ]
  },
  {
   "cell_type": "code",
   "execution_count": null,
   "metadata": {},
   "outputs": [],
   "source": [
    "holidays"
   ]
  },
  {
   "cell_type": "code",
   "execution_count": null,
   "metadata": {},
   "outputs": [],
   "source": [
    "ny = pd.DataFrame({'holiday': \"New Year's Day\", 'ds' : ['2018-01-01 00:00:00']})  \n",
    "mlk = pd.DataFrame({'holiday': 'Birthday of Martin Luther King, Jr.', 'ds' : ['2018-01-18 00:00:00']}) \n",
    "wash = pd.DataFrame({'holiday': \"Washington's Birthday\", 'ds' : ['2018-02-15 00:00:00']})\n",
    "mem = pd.DataFrame({'holiday': 'Memorial Day', 'ds' : ['2018-05-30 00:00:00']})\n",
    "ind = pd.DataFrame({'holiday': 'Independence Day', 'ds' : ['2018-07-04 00:00:00']})\n",
    "lab = pd.DataFrame({'holiday': 'Labor Day', 'ds' : ['2018-09-07 00:00:00']})\n",
    "col = pd.DataFrame({'holiday': 'Columbus Day', 'ds' : ['2018-10-12 00:00:00']})\n",
    "vet = pd.DataFrame({'holiday': \"Veteran's Day\", 'ds' : ['2018-11-11 00:00:00']})\n",
    "thanks = pd.DataFrame({'holiday': 'Thanksgiving Day', 'ds' : ['2018-11-26 00:00:00']})\n",
    "christ = pd.DataFrame({'holiday': 'Christmas', 'ds' : ['2018-12-25 00:00:00']})\n",
    "inaug = pd.DataFrame({'holiday': 'Inauguration Day', 'ds' : ['2018-01-20 00:00:00']})\n",
    "\n",
    "us_public_holidays = pd.concat([ny, mlk, wash, mem, ind, lab, col, vet, thanks, christ, inaug])"
   ]
  },
  {
   "cell_type": "code",
   "execution_count": null,
   "metadata": {},
   "outputs": [],
   "source": [
    "us_public_holidays['ds'] = pd.to_datetime(us_public_holidays['ds'])"
   ]
  },
  {
   "cell_type": "code",
   "execution_count": null,
   "metadata": {},
   "outputs": [],
   "source": [
    "us_public_holidays"
   ]
  },
  {
   "cell_type": "code",
   "execution_count": null,
   "metadata": {},
   "outputs": [],
   "source": [
    "from pandas.tseries.holiday import USFederalHolidayCalendar as calendar\n",
    "\n",
    "cal = calendar()\n",
    "train_holidays = cal.holidays(start=pjme_train.index.min(),\n",
    "                              end=pjme_train.index.max())\n",
    "test_holidays = cal.holidays(start=pjme_test.index.min(),\n",
    "                             end=pjme_test.index.max())"
   ]
  },
  {
   "cell_type": "code",
   "execution_count": null,
   "metadata": {},
   "outputs": [],
   "source": []
  }
 ],
 "metadata": {
  "kernelspec": {
   "display_name": "Python 3",
   "language": "python",
   "name": "python3"
  },
  "language_info": {
   "codemirror_mode": {
    "name": "ipython",
    "version": 3
   },
   "file_extension": ".py",
   "mimetype": "text/x-python",
   "name": "python",
   "nbconvert_exporter": "python",
   "pygments_lexer": "ipython3",
   "version": "3.5.3"
  }
 },
 "nbformat": 4,
 "nbformat_minor": 4
}
