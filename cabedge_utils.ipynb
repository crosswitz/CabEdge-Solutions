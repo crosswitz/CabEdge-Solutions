{
 "cells": [
  {
   "cell_type": "markdown",
   "metadata": {},
   "source": [
    "# Project : CabEdge"
   ]
  },
  {
   "cell_type": "markdown",
   "metadata": {},
   "source": [
    "## This file lists all the functions created for the project"
   ]
  },
  {
   "cell_type": "code",
   "execution_count": 3,
   "metadata": {},
   "outputs": [],
   "source": [
    "import pandas as pd"
   ]
  },
  {
   "cell_type": "markdown",
   "metadata": {},
   "source": [
    "#### Dividing the pickup and dropoff timestamps in date and time"
   ]
  },
  {
   "cell_type": "code",
   "execution_count": 1,
   "metadata": {},
   "outputs": [],
   "source": [
    "def time_to_date(df):\n",
    "    date_list = []\n",
    "    date_list = df.split(' ')\n",
    "    if(len(date_list) == 2):\n",
    "        return date_list[0]\n",
    "    else:\n",
    "        print(date_list)\n",
    "        return np.nan"
   ]
  },
  {
   "cell_type": "code",
   "execution_count": 2,
   "metadata": {},
   "outputs": [],
   "source": [
    "def time_to_time(df):\n",
    "    date_list = []\n",
    "    date_list = df.split(' ')\n",
    "    if(len(date_list) == 2):\n",
    "        return date_list[1]\n",
    "    else:\n",
    "        print(date_list)\n",
    "        return np.nan"
   ]
  },
  {
   "cell_type": "markdown",
   "metadata": {},
   "source": [
    "#### Determining the 'Hour' from the timestamp"
   ]
  },
  {
   "cell_type": "code",
   "execution_count": null,
   "metadata": {},
   "outputs": [],
   "source": []
  },
  {
   "cell_type": "code",
   "execution_count": 3,
   "metadata": {},
   "outputs": [],
   "source": [
    "def time_to_hour(df):\n",
    "    time_str=df\n",
    "    time=[]\n",
    "    time=time_str.split(':')\n",
    "    return time[0]"
   ]
  },
  {
   "cell_type": "markdown",
   "metadata": {},
   "source": [
    "#### Determining the 'Day' from the timestamp"
   ]
  },
  {
   "cell_type": "code",
   "execution_count": 4,
   "metadata": {},
   "outputs": [],
   "source": [
    "def date_to_day(df):\n",
    "    date_str=df\n",
    "    date=[]\n",
    "    date=date_str.split('-')\n",
    "    return date[2]\n"
   ]
  },
  {
   "cell_type": "markdown",
   "metadata": {},
   "source": [
    "#### Determining the 'Month' from the timestamp"
   ]
  },
  {
   "cell_type": "code",
   "execution_count": 5,
   "metadata": {},
   "outputs": [],
   "source": [
    "def date_to_month(df):\n",
    "    month_str=df\n",
    "    month=[]\n",
    "    month=month_str.split('-')\n",
    "    return month[1]"
   ]
  },
  {
   "cell_type": "markdown",
   "metadata": {},
   "source": [
    "#### Determining the 'Year' from the timestamp"
   ]
  },
  {
   "cell_type": "code",
   "execution_count": 6,
   "metadata": {},
   "outputs": [],
   "source": [
    "def date_to_year(df):\n",
    "    year_str=df\n",
    "    year=[]\n",
    "    year=df.split('-')\n",
    "    return year[0]"
   ]
  },
  {
   "cell_type": "code",
   "execution_count": null,
   "metadata": {},
   "outputs": [],
   "source": []
  },
  {
   "cell_type": "markdown",
   "metadata": {},
   "source": [
    "#### Was the day weekday or Weekend???"
   ]
  },
  {
   "cell_type": "code",
   "execution_count": 7,
   "metadata": {},
   "outputs": [],
   "source": [
    "\"\"\"Was the day weekday or Weekend???\"\"\"\n",
    "\"\"\"Weekday : wkd\"\"\"\n",
    "\"\"\"Weekend : Wkd\"\"\"\n",
    "\"\"\"Monday=1,Tuesday=2,Wednesday=3,Thursday=4,Friday=5,Saturday=6 Sunday=7\"\"\"\n",
    "\n",
    "def weekday_or_weekend(df):\n",
    "    wk = df.weekday()+1\n",
    "    return wk\n",
    "\n"
   ]
  },
  {
   "cell_type": "markdown",
   "metadata": {},
   "source": [
    "#### Lets create the target with time of the day and drop of zone "
   ]
  },
  {
   "cell_type": "code",
   "execution_count": 8,
   "metadata": {},
   "outputs": [],
   "source": [
    "\"\"\"1. Lets create the target with time of the day and drop of zone \"\"\"\n",
    "\n",
    "def target_hotzone(time,day,drop_zone,df):\n",
    "    filtered_df = df[(df['type_of_day'] == day) & (df['hour'] == time)]\n",
    "#     print(filtered_df['PULocationID'].value_counts().index)\n",
    "    i=0\n",
    "    target=[]\n",
    "    while(i<3):\n",
    "        try:\n",
    "            target.append(filtered_df['PULocationID'].value_counts().index[i])\n",
    "            i +=1\n",
    "        except:\n",
    "            return tuple(target)\n",
    "    return tuple(target)"
   ]
  },
  {
   "cell_type": "markdown",
   "metadata": {},
   "source": [
    "#### Creating a function to convert from unix time to utc time"
   ]
  },
  {
   "cell_type": "code",
   "execution_count": 9,
   "metadata": {},
   "outputs": [],
   "source": [
    "import time"
   ]
  },
  {
   "cell_type": "code",
   "execution_count": 10,
   "metadata": {},
   "outputs": [],
   "source": [
    "def unix_to_utc(df):\n",
    "    time_str = time.strftime('%Y-%m-%d %H:%M:%S', time.localtime(df))\n",
    "    return time_str"
   ]
  },
  {
   "cell_type": "markdown",
   "metadata": {},
   "source": [
    "## Implementation of Logic to determine the Zone the Driver to Drive to"
   ]
  },
  {
   "cell_type": "markdown",
   "metadata": {},
   "source": [
    "#### Creating Function to determine demand and supply"
   ]
  },
  {
   "cell_type": "code",
   "execution_count": 11,
   "metadata": {},
   "outputs": [],
   "source": [
    "def demand_supply(pick__time_series,drop_time_series,month,day,hour,zone):\n",
    "    \n",
    "    \n",
    "    \"\"\"Create the demand % for origin\"\"\"\n",
    "    nb_pick = pick__time_series[(pick__time_series['Month'] == month) & (pick__time_series['Day'] == day) & (pick__time_series['hour'] == hour) & (pick__time_series['PULocationID'] == zone)]['Count'].values[0]\n",
    "    nb_drop = drop_time_series[(drop_time_series['drop_off_Month'] == month) & (drop_time_series['drop_off_Day'] == day) & (drop_time_series['drop_off_Hour'] == hour) & (drop_time_series['DOLocationID'] == zone)]['Count'].values[0]\n",
    "    \n",
    "    \"\"\" If demand_origin is greater than 1 then there is demand\"\"\"\n",
    "    demand_origin = float((nb_pick/nb_drop))\n",
    "    print('Current Zone: ',zone, ': ',demand_origin)\n",
    "    \"\"\"Create the demand % at all locations\"\"\"\n",
    "    zone_demand_list = []\n",
    "    \n",
    "    for zone_id in range(1,264):\n",
    "        try:\n",
    "#             print(pick__time_series[(pick__time_series['Month'] == month) & (pick__time_series['Day'] == day) & (pick__time_series['hour'] == hour) & (pick__time_series['PULocationID'] == zone_id)]['Count'].values[0])\n",
    "            nb_pick = pick__time_series[(pick__time_series['Month'] == month) & (pick__time_series['Day'] == day) & (pick__time_series['hour'] == hour) & (pick__time_series['PULocationID'] == zone_id)]['Count'].values[0]\n",
    "            nb_drop = drop_time_series[(drop_time_series['drop_off_Month'] == month) & (drop_time_series['drop_off_Day'] == day) & (drop_time_series['drop_off_Hour'] == hour) & (drop_time_series['DOLocationID'] == zone_id)]['Count'].values[0]\n",
    "            demand_zone = float((nb_pick/nb_drop)) #Ratio of pick up and supply\n",
    "\n",
    "#             print('Demand Origin :',demand_origin)\n",
    "#             print('Demand Zone: ',demand_zone)\n",
    "            #If any zone's demand % is greater than 1, and 20% higher than demand % of current location then consider it\n",
    "          \n",
    "            threshold = 1.2 * demand_origin\n",
    "\n",
    "#             print(threshold)\n",
    "#           If demand_zone is greater than threshold and is +ve\n",
    "            if((demand_zone > threshold) & (demand_zone > 1)):\n",
    "                print('zone :',zone_id,', ', demand_zone)\n",
    "                zone_demand_list.append(zone_id)\n",
    "#                 print(zone_demand_list)\n",
    "        except :\n",
    "            pass\n",
    "        \n",
    "    return zone_demand_list"
   ]
  },
  {
   "cell_type": "code",
   "execution_count": 6,
   "metadata": {},
   "outputs": [],
   "source": [
    "def model_demand_supply(pick_zone_dict,drop_zone_dict,current_zone):\n",
    "    \n",
    "    \n",
    "    \"\"\"Create the demand % for origin\"\"\"\n",
    "    \"\"\" If demand_origin is greater than 1 then there is demand\"\"\"\n",
    "    try:\n",
    "        demand_origin = pick_zone_dict[current_zone]/drop_zone_dict[current_zone]\n",
    "        print('Current Zone: ',current_zone, ': ',demand_origin)\n",
    "    except:\n",
    "        demand_origin = 1\n",
    "    \n",
    "    \"\"\"Create the demand % at 10 locations\"\"\"\n",
    "    zone_demand_list = []\n",
    "    \n",
    "    for zone_id in pick_zone_dict.keys():\n",
    "        try:\n",
    "            #Ratio of pick up and supply\n",
    "            demand_zone = float((pick_zone_dict[zone_id]/drop_zone_dict[zone_id])) \n",
    "\n",
    "            #If any zone's demand % is greater than 1, and 20% higher than demand % of current location then consider it\n",
    "          \n",
    "            threshold = 1.2 * demand_origin\n",
    "\n",
    "#             print(threshold)\n",
    "#           If demand_zone is greater than threshold and is +ve\n",
    "            if((demand_zone > threshold) & (demand_zone > 1)):\n",
    "                print('demand zone :',zone_id,', ', demand_zone)\n",
    "                zone_demand_list.append(zone_id)\n",
    "#                 print(zone_demand_list)\n",
    "        except :\n",
    "            pass\n",
    "        \n",
    "    return zone_demand_list"
   ]
  },
  {
   "cell_type": "markdown",
   "metadata": {},
   "source": [
    "#### So now logic for finding out the best zone amongst the filtered list of zones"
   ]
  },
  {
   "cell_type": "code",
   "execution_count": 2,
   "metadata": {},
   "outputs": [],
   "source": [
    "def find_best_zone_distance(zone_square_dist_df,current_zone,zone_demand_list):\n",
    "\n",
    "    best_zone_distance_list = []\n",
    "    \n",
    "    if len(zone_demand_list) > 0:\n",
    "        for zone in zone_demand_list:\n",
    "            dist = zone_square_dist_df.loc[current_zone][zone]\n",
    "            best_zone_distance_list.append(dist)\n",
    "    else:\n",
    "        zone_demand_list.append(current_zone)\n",
    "        best_zone_distance_list.append(0)\n",
    "        print(zone_demand_list,best_zone_distance_list)\n",
    "        \n",
    "    import pandas as pd\n",
    "    best_zone_distance = pd.DataFrame()\n",
    "    \n",
    "    best_zone_distance['zone'] = zone_demand_list\n",
    "    \n",
    "    best_zone_distance['Distance'] = best_zone_distance_list\n",
    "    \n",
    "    best_zone = best_zone_distance.sort_values(by='Distance').iloc[0,0]\n",
    "    \n",
    "    print(best_zone)\n",
    "    \n",
    "    return best_zone\n",
    "    "
   ]
  },
  {
   "cell_type": "markdown",
   "metadata": {},
   "source": [
    "#### Print the name of Best Zone"
   ]
  },
  {
   "cell_type": "code",
   "execution_count": 4,
   "metadata": {},
   "outputs": [],
   "source": [
    "def best_zone_func(best_zone):\n",
    "    \n",
    "    zone_df = pd.read_csv('/home/jupyter/capstone/database/zone_df.csv')\n",
    "    borough = zone_df[zone_df['LocationID'] == best_zone]['Borough'].values[0]\n",
    "    zone = zone_df[zone_df['LocationID'] == best_zone]['Zone'].values[0]\n",
    "    \n",
    "    return borough, zone"
   ]
  },
  {
   "cell_type": "markdown",
   "metadata": {},
   "source": [
    "### Logic to determine the best zone based on Median prices"
   ]
  },
  {
   "cell_type": "code",
   "execution_count": 15,
   "metadata": {},
   "outputs": [],
   "source": [
    "def find_best_zone_fare(fare_time_series,current_zone,zone_demand_list,month,day,hour):\n",
    "\n",
    "    best_zone_fare_list = []\n",
    "    new_zone_list =[]\n",
    "    \n",
    "    new_fare_time_series = fare_time_series[(fare_time_series['Month'] == str(month)) & (fare_time_series['Day'] == str(day)) & (fare_time_series['hour']== str(hour))]\n",
    "#     print(new_fare_time_series)\n",
    "    current_zone_median_fare = new_fare_time_series[new_fare_time_series['PULocationID'] == current_zone]['Median Fare amount'].values[0]\n",
    "    \n",
    "    print(current_zone_median_fare)\n",
    "    \n",
    "    for zone in zone_demand_list:\n",
    "        median_fare = new_fare_time_series[new_fare_time_series['PULocationID'] == zone]['Median Fare amount'].values[0]\n",
    "        \n",
    "        #If median fare of the zone is greater than 20% of the current zone\n",
    "        \n",
    "        if(median_fare > 1.2 * current_zone_median_fare):\n",
    "            best_zone_fare_list.append(median_fare)\n",
    "            new_zone_list.append(zone)\n",
    "    \n",
    "    \n",
    "    if(len(best_zone_fare_list) > 0):\n",
    "        best_zone_fare = pd.DataFrame()\n",
    "\n",
    "        best_zone_fare['zone'] = new_zone_list\n",
    "        best_zone_fare['Median Fare'] = best_zone_fare_list\n",
    "\n",
    "        best_zone = best_zone_fare.sort_values(by='Median Fare',ascending=False).iloc[0,0]\n",
    "        best_median_fare = best_zone_fare.sort_values(by='Median Fare',ascending=False).iloc[0,1]\n",
    "\n",
    "        print(best_zone,': ',best_median_fare)\n",
    "    else:\n",
    "        best_zone = current_zone\n",
    "    \n",
    "    return best_zone"
   ]
  },
  {
   "cell_type": "code",
   "execution_count": null,
   "metadata": {},
   "outputs": [],
   "source": []
  },
  {
   "cell_type": "code",
   "execution_count": null,
   "metadata": {},
   "outputs": [],
   "source": []
  }
 ],
 "metadata": {
  "kernelspec": {
   "display_name": "Python 3",
   "language": "python",
   "name": "python3"
  },
  "language_info": {
   "codemirror_mode": {
    "name": "ipython",
    "version": 3
   },
   "file_extension": ".py",
   "mimetype": "text/x-python",
   "name": "python",
   "nbconvert_exporter": "python",
   "pygments_lexer": "ipython3",
   "version": "3.5.3"
  }
 },
 "nbformat": 4,
 "nbformat_minor": 4
}
